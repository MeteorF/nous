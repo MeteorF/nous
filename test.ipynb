{
 "cells": [
  {
   "cell_type": "code",
   "execution_count": 2,
   "metadata": {
    "ExecuteTime": {
     "end_time": "2018-10-06T16:08:46.957635Z",
     "start_time": "2018-10-06T16:08:46.939711Z"
    }
   },
   "outputs": [
    {
     "name": "stdout",
     "output_type": "stream",
     "text": [
      "===== parse_config/parse_config =====\n",
      "===== util_dir_check/util_path_ops =====\n",
      "current_dir = C:\\Users\\alana\\AnacondaProjects\\nous\n",
      "proj_dir = C:\\Users\\alana\\AnacondaProjects\n",
      "dir_to_check = C:\\Users\\alana\\AnacondaProjects\\nous\\settings\\config.json | exist = True | is_dir = False | is_file = True\n",
      "C:\\Users\\alana\\AnacondaProjects\\nous\\settings\\config.json | exist, no action required.\n",
      "===== parse_config/str_to_bool =====\n",
      "===== parse_config/get_config_val =====\n",
      "Attempt to get: config_key = INPUT_DIR | ENV_specific=DEFAULT\n",
      "val=input | type=<class 'str'> \n",
      "\n",
      "===== util_dir_check/util_path_ops =====\n",
      "current_dir = C:\\Users\\alana\\AnacondaProjects\\nous\n",
      "proj_dir = C:\\Users\\alana\\AnacondaProjects\n",
      "dir_to_check = C:\\Users\\alana\\AnacondaProjects\\input | exist = True | is_dir = True | is_file = False\n",
      "C:\\Users\\alana\\AnacondaProjects\\input | exist, no action required.\n",
      "===== parse_config/get_config_val =====\n",
      "Attempt to get: config_key = OUTPUT_DIR | ENV_specific=DEFAULT\n",
      "val=output | type=<class 'str'> \n",
      "\n",
      "===== util_dir_check/util_path_ops =====\n",
      "current_dir = C:\\Users\\alana\\AnacondaProjects\\nous\n",
      "proj_dir = C:\\Users\\alana\\AnacondaProjects\n",
      "dir_to_check = C:\\Users\\alana\\AnacondaProjects\\output | exist = True | is_dir = True | is_file = False\n",
      "C:\\Users\\alana\\AnacondaProjects\\output | exist, no action required.\n",
      "VERSION = 0.0.1 | type = <class 'str'>\n",
      "ENV = DEV | type = <class 'str'>\n",
      "DEBUG = True | type = <class 'bool'>\n",
      "INPUT = C:\\Users\\alana\\AnacondaProjects\\input | type = <class 'str'>\n",
      "OUTPUT = C:\\Users\\alana\\AnacondaProjects\\output | type = <class 'str'> \n",
      "\n"
     ]
    }
   ],
   "source": [
    "import sys\n",
    "sys.path.append('modules')\n",
    "\n",
    "from modules import parse_config"
   ]
  }
 ],
 "metadata": {
  "kernelspec": {
   "display_name": "Python 3",
   "language": "python",
   "name": "python3"
  },
  "language_info": {
   "codemirror_mode": {
    "name": "ipython",
    "version": 3
   },
   "file_extension": ".py",
   "mimetype": "text/x-python",
   "name": "python",
   "nbconvert_exporter": "python",
   "pygments_lexer": "ipython3",
   "version": "3.6.6"
  },
  "toc": {
   "base_numbering": 1,
   "nav_menu": {},
   "number_sections": true,
   "sideBar": true,
   "skip_h1_title": false,
   "title_cell": "Table of Contents",
   "title_sidebar": "Contents",
   "toc_cell": false,
   "toc_position": {},
   "toc_section_display": true,
   "toc_window_display": true
  },
  "varInspector": {
   "cols": {
    "lenName": 16,
    "lenType": 16,
    "lenVar": 40
   },
   "kernels_config": {
    "python": {
     "delete_cmd_postfix": "",
     "delete_cmd_prefix": "del ",
     "library": "var_list.py",
     "varRefreshCmd": "print(var_dic_list())"
    },
    "r": {
     "delete_cmd_postfix": ") ",
     "delete_cmd_prefix": "rm(",
     "library": "var_list.r",
     "varRefreshCmd": "cat(var_dic_list()) "
    }
   },
   "types_to_exclude": [
    "module",
    "function",
    "builtin_function_or_method",
    "instance",
    "_Feature"
   ],
   "window_display": false
  }
 },
 "nbformat": 4,
 "nbformat_minor": 2
}
