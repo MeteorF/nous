{
 "cells": [
  {
   "cell_type": "code",
   "execution_count": 1,
   "metadata": {
    "ExecuteTime": {
     "end_time": "2018-10-13T15:40:58.514882Z",
     "start_time": "2018-10-13T15:40:58.510893Z"
    }
   },
   "outputs": [],
   "source": [
    "# chdir"
   ]
  },
  {
   "cell_type": "code",
   "execution_count": 2,
   "metadata": {
    "ExecuteTime": {
     "end_time": "2018-10-13T15:40:58.541810Z",
     "start_time": "2018-10-13T15:40:58.515879Z"
    }
   },
   "outputs": [
    {
     "name": "stdout",
     "output_type": "stream",
     "text": [
      "__name__ = __main__\n"
     ]
    }
   ],
   "source": [
    "import pathlib\n",
    "from os import chdir as os_chdir\n",
    "\n",
    "print(f'__name__ = {__name__}')\n",
    "\n",
    "if __name__ == '__main__':\n",
    "    from dir_check import dir_check\n",
    "else:\n",
    "    from .dir_check import dir_check"
   ]
  },
  {
   "cell_type": "code",
   "execution_count": 3,
   "metadata": {
    "ExecuteTime": {
     "end_time": "2018-10-13T15:40:58.551783Z",
     "start_time": "2018-10-13T15:40:58.543804Z"
    }
   },
   "outputs": [],
   "source": [
    "def chdir(path=None):\n",
    "    print(f'===== path_ops/chdir =====')\n",
    "    \n",
    "    if (path == None):\n",
    "        raise ValueError(\"No path is received\")\n",
    "    else:\n",
    "        # Parse string to path object\n",
    "        path = dir_check(path, dir_create=False, return_type='Path')\n",
    "        print (f'target_dir = {path}')\n",
    "        path = pathlib.PurePath(path)\n",
    "        \n",
    "        os_chdir(path)\n",
    "        cwd = pathlib.Path.cwd()\n",
    "        print (f'cwd = {cwd}')"
   ]
  },
  {
   "cell_type": "code",
   "execution_count": 4,
   "metadata": {
    "ExecuteTime": {
     "end_time": "2018-10-13T15:40:58.564749Z",
     "start_time": "2018-10-13T15:40:58.553779Z"
    }
   },
   "outputs": [
    {
     "name": "stdout",
     "output_type": "stream",
     "text": [
      "===== path_ops/chdir =====\n",
      "===== path_helper/dir_check =====\n",
      "current_dir = C:\\Users\\alana\\AnacondaProjects\\nous\\modules\\path_helper\n",
      "dir_to_check = C:\\Users\\alana\\AnacondaProjects\\nous | exist = True | is_dir = True | is_file = False\n",
      "C:\\Users\\alana\\AnacondaProjects\\nous | exist, no action required.\n",
      "target_dir = C:\\Users\\alana\\AnacondaProjects\\nous\n",
      "cwd = C:\\Users\\alana\\AnacondaProjects\\nous\n"
     ]
    }
   ],
   "source": [
    "# Test function for module  \n",
    "def _test():\n",
    "    path = 'C:/Users/alana/AnacondaProjects/nous'\n",
    "    chdir(path)\n",
    "    \n",
    "    cwd = pathlib.Path.cwd()\n",
    "    path = pathlib.PurePath(path)\n",
    "    assert(cwd == path)\n",
    "\n",
    "if __name__ == '__main__':\n",
    "    _test()"
   ]
  }
 ],
 "metadata": {
  "kernelspec": {
   "display_name": "Python 3",
   "language": "python",
   "name": "python3"
  },
  "language_info": {
   "codemirror_mode": {
    "name": "ipython",
    "version": 3
   },
   "file_extension": ".py",
   "mimetype": "text/x-python",
   "name": "python",
   "nbconvert_exporter": "python",
   "pygments_lexer": "ipython3",
   "version": "3.6.6"
  },
  "toc": {
   "base_numbering": 1,
   "nav_menu": {},
   "number_sections": true,
   "sideBar": true,
   "skip_h1_title": false,
   "title_cell": "Table of Contents",
   "title_sidebar": "Contents",
   "toc_cell": false,
   "toc_position": {},
   "toc_section_display": true,
   "toc_window_display": true
  },
  "varInspector": {
   "cols": {
    "lenName": 16,
    "lenType": 16,
    "lenVar": 40
   },
   "kernels_config": {
    "python": {
     "delete_cmd_postfix": "",
     "delete_cmd_prefix": "del ",
     "library": "var_list.py",
     "varRefreshCmd": "print(var_dic_list())"
    },
    "r": {
     "delete_cmd_postfix": ") ",
     "delete_cmd_prefix": "rm(",
     "library": "var_list.r",
     "varRefreshCmd": "cat(var_dic_list()) "
    }
   },
   "types_to_exclude": [
    "module",
    "function",
    "builtin_function_or_method",
    "instance",
    "_Feature"
   ],
   "window_display": false
  }
 },
 "nbformat": 4,
 "nbformat_minor": 2
}
