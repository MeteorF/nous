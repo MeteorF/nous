{
 "cells": [
  {
   "cell_type": "code",
   "execution_count": 1,
   "metadata": {
    "ExecuteTime": {
     "end_time": "2018-10-11T15:24:46.936423Z",
     "start_time": "2018-10-11T15:24:46.930439Z"
    }
   },
   "outputs": [],
   "source": [
    "# display_dir_tree"
   ]
  },
  {
   "cell_type": "code",
   "execution_count": 2,
   "metadata": {
    "ExecuteTime": {
     "end_time": "2018-10-11T15:24:46.951382Z",
     "start_time": "2018-10-11T15:24:46.939415Z"
    }
   },
   "outputs": [],
   "source": [
    "import pathlib\n",
    "import datetime"
   ]
  },
  {
   "cell_type": "code",
   "execution_count": 3,
   "metadata": {
    "ExecuteTime": {
     "end_time": "2018-10-11T15:24:46.967339Z",
     "start_time": "2018-10-11T15:24:46.953377Z"
    }
   },
   "outputs": [],
   "source": [
    "def display_dir_tree(directory):\n",
    "    print(f'===== path_ops/display_dir_tree =====')\n",
    "    print(f'+ {directory}')\n",
    "    \n",
    "    directory = pathlib.Path(directory)\n",
    "    \n",
    "    for path in sorted(directory.rglob('*')):\n",
    "        depth = len(path.relative_to(directory).parts)\n",
    "        spacer = '    ' * depth\n",
    "        print(f'{spacer}+ {path.name}')"
   ]
  },
  {
   "cell_type": "code",
   "execution_count": 4,
   "metadata": {
    "ExecuteTime": {
     "end_time": "2018-10-11T15:24:46.988295Z",
     "start_time": "2018-10-11T15:24:46.969334Z"
    }
   },
   "outputs": [
    {
     "name": "stdout",
     "output_type": "stream",
     "text": [
      "C:/Users/alana/AnacondaProjects/nous/modules/path_helper/\n",
      "===== path_ops/display_dir_tree =====\n",
      "+ C:/Users/alana/AnacondaProjects/nous/modules/path_helper/\n",
      "    + .ipynb_checkpoints\n",
      "        + __init__-checkpoint.ipynb\n",
      "        + dir_check-checkpoint.ipynb\n",
      "        + display_dir_tree-checkpoint.ipynb\n",
      "        + getOutputFileName-checkpoint.ipynb\n",
      "    + __init__.ipynb\n",
      "    + __init__.py\n",
      "    + __pycache__\n",
      "        + __init__.cpython-36.pyc\n",
      "        + dir_check.cpython-36.pyc\n",
      "        + display_dir_tree.cpython-36.pyc\n",
      "        + getOutputFileName.cpython-36.pyc\n",
      "    + dir_check.ipynb\n",
      "    + dir_check.py\n",
      "    + display_dir_tree.ipynb\n",
      "    + display_dir_tree.py\n",
      "    + getOutputFileName.ipynb\n",
      "    + getOutputFileName.py\n",
      "    + path_ops.ipynb\n",
      "    + path_ops.py\n"
     ]
    }
   ],
   "source": [
    "# Test function for module  \n",
    "def _test():\n",
    "    path = 'C:/Users/alana/AnacondaProjects/nous/modules/path_helper/'\n",
    "    print(path)\n",
    "    display_dir_tree(path)\n",
    "\n",
    "if __name__ == '__main__':\n",
    "    _test()"
   ]
  }
 ],
 "metadata": {
  "kernelspec": {
   "display_name": "Python 3",
   "language": "python",
   "name": "python3"
  },
  "language_info": {
   "codemirror_mode": {
    "name": "ipython",
    "version": 3
   },
   "file_extension": ".py",
   "mimetype": "text/x-python",
   "name": "python",
   "nbconvert_exporter": "python",
   "pygments_lexer": "ipython3",
   "version": "3.6.6"
  },
  "toc": {
   "base_numbering": 1,
   "nav_menu": {},
   "number_sections": true,
   "sideBar": true,
   "skip_h1_title": false,
   "title_cell": "Table of Contents",
   "title_sidebar": "Contents",
   "toc_cell": false,
   "toc_position": {},
   "toc_section_display": true,
   "toc_window_display": true
  },
  "varInspector": {
   "cols": {
    "lenName": 16,
    "lenType": 16,
    "lenVar": 40
   },
   "kernels_config": {
    "python": {
     "delete_cmd_postfix": "",
     "delete_cmd_prefix": "del ",
     "library": "var_list.py",
     "varRefreshCmd": "print(var_dic_list())"
    },
    "r": {
     "delete_cmd_postfix": ") ",
     "delete_cmd_prefix": "rm(",
     "library": "var_list.r",
     "varRefreshCmd": "cat(var_dic_list()) "
    }
   },
   "types_to_exclude": [
    "module",
    "function",
    "builtin_function_or_method",
    "instance",
    "_Feature"
   ],
   "window_display": false
  }
 },
 "nbformat": 4,
 "nbformat_minor": 2
}
