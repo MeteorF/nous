{
 "cells": [
  {
   "cell_type": "code",
   "execution_count": 1,
   "metadata": {
    "ExecuteTime": {
     "end_time": "2018-10-09T14:37:28.668600Z",
     "start_time": "2018-10-09T14:37:28.662616Z"
    }
   },
   "outputs": [],
   "source": [
    "# ../utilities/path_ops\n",
    "# Last modify: 20181007"
   ]
  },
  {
   "cell_type": "markdown",
   "metadata": {
    "ExecuteTime": {
     "end_time": "2018-10-01T14:36:01.145607Z",
     "start_time": "2018-10-01T14:36:01.138630Z"
    }
   },
   "source": [
    "## Picking Out Components of a Path\n",
    "Ref: https://realpython.com/python-pathlib/ <br>\n",
    "The different parts of a path are conveniently available as properties. Basic examples include:\n",
    "<ul>\n",
    "    <li>.name: the file name without any directory</li>\n",
    "    <li>.parent: the directory containing the file, or the parent directory if path is a directory</li>\n",
    "    <li>.stem: the file name without the suffix</li>\n",
    "    <li>.suffix: the file extension</li>\n",
    "    <li>.anchor: the part of the path before the directories</li>\n",
    "</ul>"
   ]
  },
  {
   "cell_type": "code",
   "execution_count": 2,
   "metadata": {
    "ExecuteTime": {
     "end_time": "2018-10-09T14:37:28.689545Z",
     "start_time": "2018-10-09T14:37:28.670595Z"
    }
   },
   "outputs": [],
   "source": [
    "from os import mkdir\n",
    "from os import chdir\n",
    "import pathlib\n",
    "import datetime"
   ]
  },
  {
   "cell_type": "code",
   "execution_count": 3,
   "metadata": {
    "ExecuteTime": {
     "end_time": "2018-10-09T14:37:28.705502Z",
     "start_time": "2018-10-09T14:37:28.691540Z"
    }
   },
   "outputs": [],
   "source": [
    "def dir_check (dir_check = None, dir_create = True, return_type = 'Exist'):\n",
    "    print(f'===== path_ops/dir_check =====')\n",
    "    \n",
    "    if dir_check == None:\n",
    "        raise ValueError(\"No directory for checking.\")\n",
    "        \n",
    "    else:\n",
    "        current_dir = pathlib.Path.cwd()\n",
    "        # proj_dir = pathlib.Path(root_dir)\n",
    "        dir_query = pathlib.Path(dir_check)\n",
    "        dir_to_check = dir_query.resolve()\n",
    "        dir_to_check_exist = dir_to_check.exists()\n",
    "        \n",
    "        print(f'current_dir = {current_dir}')\n",
    "        # print(f'proj_dir = {proj_dir.resolve()}')\n",
    "        print(f'dir_to_check = {dir_to_check} | exist = {dir_query.exists()} | is_dir = {dir_query.is_dir()} | is_file = {dir_query.is_file()}')\n",
    "        \n",
    "        if dir_to_check_exist == True :\n",
    "            print (f'{dir_to_check} | exist, no action required.')\n",
    "        else:\n",
    "            # Not contain extension, is a directory\n",
    "            if len(dir_to_check.suffix) == 0 and dir_create == True:\n",
    "                print (f'{dir_to_check} | not exist, dir created.')\n",
    "                mkdir(dir_to_check)\n",
    "            \n",
    "            if len(dir_to_check.suffix) == 0 and dir_create == False :\n",
    "                print (f'{dir_to_check} | not exist, dir not created according to config.')\n",
    "                \n",
    "            # Contains extension, Not a directory\n",
    "            elif len(dir_to_check.suffix) != 0:\n",
    "                raise ValueError(f'{dir_to_check} | file not exist.')\n",
    "        \n",
    "            print (\"\\n\")\n",
    "        \n",
    "        if return_type == 'Exist':\n",
    "            return dir_to_check_exist\n",
    "        elif return_type == 'Path':\n",
    "            return str(dir_to_check)"
   ]
  },
  {
   "cell_type": "code",
   "execution_count": 4,
   "metadata": {
    "ExecuteTime": {
     "end_time": "2018-10-09T14:37:28.723455Z",
     "start_time": "2018-10-09T14:37:28.707497Z"
    }
   },
   "outputs": [],
   "source": [
    "def getOutputFileName(extension='.txt', path=None, custom_name=None):\n",
    "    ## Output file name setting\n",
    "    print(f'===== path_ops/getOutputFileName =====')\n",
    "    \n",
    "    if (path == None):\n",
    "        raise ValueError(\"No path is received\")\n",
    "    else:\n",
    "        # Parse string to path object\n",
    "        path = dir_check(path, dir_create=False, return_type='Path')\n",
    "        path = pathlib.PurePath(path)\n",
    "        \n",
    "    now = datetime.datetime.now()\n",
    "    # print(now.strftime(\"%Y%m%d_%H%M%S\"))\n",
    "    timeStampStr = str(now.strftime(\"%Y%m%d_%H%M%S%f\"))\n",
    "    \n",
    "    if (custom_name == None):\n",
    "        output_filename = 'output_' + timeStampStr + extension\n",
    "    elif (len(custom_name) > 0):\n",
    "        output_filename = custom_name[:20] + '_' + timeStampStr + extension\n",
    "    elif (len(custom_name) == 0):\n",
    "        output_filename = timeStampStr + extension\n",
    "    \n",
    "    ## output_filename = os.path.join(output_folder, output_filename) + extension\n",
    "    path = path.joinpath(output_filename)\n",
    "    \n",
    "    print(f'path = {path}')\n",
    "    print (\"\\n\")\n",
    "    return str(path)"
   ]
  },
  {
   "cell_type": "code",
   "execution_count": 5,
   "metadata": {
    "ExecuteTime": {
     "end_time": "2018-10-09T14:37:28.740409Z",
     "start_time": "2018-10-09T14:37:28.725449Z"
    }
   },
   "outputs": [],
   "source": [
    "def display_dir_tree(directory):\n",
    "    print(f'===== path_ops/display_dir_tree =====')\n",
    "    print(f'+ {directory}')\n",
    "    \n",
    "    for path in sorted(directory.rglob('*')):\n",
    "        depth = len(path.relative_to(directory).parts)\n",
    "        spacer = '    ' * depth\n",
    "        print(f'{spacer}+ {path.name}')"
   ]
  },
  {
   "cell_type": "code",
   "execution_count": 6,
   "metadata": {
    "ExecuteTime": {
     "end_time": "2018-10-09T14:37:28.757363Z",
     "start_time": "2018-10-09T14:37:28.742403Z"
    }
   },
   "outputs": [],
   "source": [
    "def main():\n",
    "    print(f\"dir_check(Path option) = {dir_check('settings/abcccc', dir_create = False, return_type='Path')} \\n\")\n",
    "    print(f\"dir_check(Exist option) = {dir_check('settings/abcccc', dir_create = False, return_type='Exist')} \\n\")\n",
    "    # display_dir_tree(pathlib.Path.cwd().parent)"
   ]
  },
  {
   "cell_type": "code",
   "execution_count": 7,
   "metadata": {
    "ExecuteTime": {
     "end_time": "2018-10-09T14:37:28.785289Z",
     "start_time": "2018-10-09T14:37:28.759358Z"
    }
   },
   "outputs": [
    {
     "name": "stdout",
     "output_type": "stream",
     "text": [
      "===== path_ops/dir_check =====\n",
      "current_dir = C:\\Users\\alana\\AnacondaProjects\\nous\\modules\n",
      "dir_to_check = settings\\abcccc | exist = False | is_dir = False | is_file = False\n",
      "settings\\abcccc | not exist, dir not created according to config.\n",
      "\n",
      "\n",
      "dir_check(Path option) = settings\\abcccc \n",
      "\n",
      "===== path_ops/dir_check =====\n",
      "current_dir = C:\\Users\\alana\\AnacondaProjects\\nous\\modules\n",
      "dir_to_check = settings\\abcccc | exist = False | is_dir = False | is_file = False\n",
      "settings\\abcccc | not exist, dir not created according to config.\n",
      "\n",
      "\n",
      "dir_check(Exist option) = False \n",
      "\n"
     ]
    }
   ],
   "source": [
    "if __name__ == '__main__':\n",
    "    main()"
   ]
  }
 ],
 "metadata": {
  "kernelspec": {
   "display_name": "Python 3",
   "language": "python",
   "name": "python3"
  },
  "language_info": {
   "codemirror_mode": {
    "name": "ipython",
    "version": 3
   },
   "file_extension": ".py",
   "mimetype": "text/x-python",
   "name": "python",
   "nbconvert_exporter": "python",
   "pygments_lexer": "ipython3",
   "version": "3.6.6"
  },
  "toc": {
   "base_numbering": 1,
   "nav_menu": {},
   "number_sections": true,
   "sideBar": true,
   "skip_h1_title": false,
   "title_cell": "Table of Contents",
   "title_sidebar": "Contents",
   "toc_cell": false,
   "toc_position": {},
   "toc_section_display": true,
   "toc_window_display": true
  },
  "varInspector": {
   "cols": {
    "lenName": 16,
    "lenType": 16,
    "lenVar": 40
   },
   "kernels_config": {
    "python": {
     "delete_cmd_postfix": "",
     "delete_cmd_prefix": "del ",
     "library": "var_list.py",
     "varRefreshCmd": "print(var_dic_list())"
    },
    "r": {
     "delete_cmd_postfix": ") ",
     "delete_cmd_prefix": "rm(",
     "library": "var_list.r",
     "varRefreshCmd": "cat(var_dic_list()) "
    }
   },
   "types_to_exclude": [
    "module",
    "function",
    "builtin_function_or_method",
    "instance",
    "_Feature"
   ],
   "window_display": false
  }
 },
 "nbformat": 4,
 "nbformat_minor": 2
}
