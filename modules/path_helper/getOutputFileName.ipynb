{
 "cells": [
  {
   "cell_type": "code",
   "execution_count": 1,
   "metadata": {
    "ExecuteTime": {
     "end_time": "2018-10-11T15:31:30.314681Z",
     "start_time": "2018-10-11T15:31:30.310690Z"
    }
   },
   "outputs": [],
   "source": [
    "# getOutputFileName"
   ]
  },
  {
   "cell_type": "code",
   "execution_count": 2,
   "metadata": {
    "ExecuteTime": {
     "end_time": "2018-10-11T15:31:30.333628Z",
     "start_time": "2018-10-11T15:31:30.316674Z"
    }
   },
   "outputs": [
    {
     "name": "stdout",
     "output_type": "stream",
     "text": [
      "__name__ = __main__\n"
     ]
    }
   ],
   "source": [
    "import pathlib\n",
    "import datetime\n",
    "\n",
    "print(f'__name__ = {__name__}')\n",
    "\n",
    "if __name__ == '__main__':\n",
    "    from dir_check import dir_check\n",
    "else:\n",
    "    from .dir_check import dir_check"
   ]
  },
  {
   "cell_type": "code",
   "execution_count": 3,
   "metadata": {
    "ExecuteTime": {
     "end_time": "2018-10-11T15:31:30.343608Z",
     "start_time": "2018-10-11T15:31:30.335625Z"
    }
   },
   "outputs": [],
   "source": [
    "def getOutputFileName(extension='.txt', path=None, custom_name=None):\n",
    "    ## Output file name setting\n",
    "    print(f'===== path_ops/getOutputFileName =====')\n",
    "    \n",
    "    if (path == None):\n",
    "        raise ValueError(\"No path is received\")\n",
    "    else:\n",
    "        # Parse string to path object\n",
    "        path = dir_check(path, dir_create=False, return_type='Path')\n",
    "        path = pathlib.PurePath(path)\n",
    "        \n",
    "    now = datetime.datetime.now()\n",
    "    # print(now.strftime(\"%Y%m%d_%H%M%S\"))\n",
    "    timeStampStr = str(now.strftime(\"%Y%m%d_%H%M%S%f\"))\n",
    "    \n",
    "    if (custom_name == None):\n",
    "        output_filename = 'output_' + timeStampStr + extension\n",
    "    elif (len(custom_name) > 0):\n",
    "        output_filename = custom_name[:20] + '_' + timeStampStr + extension\n",
    "    elif (len(custom_name) == 0):\n",
    "        output_filename = timeStampStr + extension\n",
    "    \n",
    "    ## output_filename = os.path.join(output_folder, output_filename) + extension\n",
    "    path = path.joinpath(output_filename)\n",
    "    \n",
    "    print(f'path = {path}')\n",
    "    print (\"\\n\")\n",
    "    return str(path)"
   ]
  },
  {
   "cell_type": "code",
   "execution_count": 4,
   "metadata": {
    "ExecuteTime": {
     "end_time": "2018-10-11T15:31:30.357564Z",
     "start_time": "2018-10-11T15:31:30.345597Z"
    }
   },
   "outputs": [
    {
     "name": "stdout",
     "output_type": "stream",
     "text": [
      "===== path_ops/getOutputFileName =====\n",
      "===== path_helper/dir_check =====\n",
      "current_dir = C:\\Users\\alana\\AnacondaProjects\\nous\\modules\\path_helper\n",
      "dir_to_check = C:\\Users\\alana\\AnacondaProjects\\nous\\modules\\path_helper | exist = True | is_dir = True | is_file = False\n",
      "C:\\Users\\alana\\AnacondaProjects\\nous\\modules\\path_helper | exist, no action required.\n",
      "path = C:\\Users\\alana\\AnacondaProjects\\nous\\modules\\path_helper\\output_20181011_233130355570.txt\n",
      "\n",
      "\n"
     ]
    }
   ],
   "source": [
    "# Test function for module  \n",
    "def _test():\n",
    "    path = getOutputFileName(path='.')\n",
    "    assert(pathlib.Path(path).suffix == '.txt')\n",
    "\n",
    "if __name__ == '__main__':\n",
    "    _test()"
   ]
  }
 ],
 "metadata": {
  "kernelspec": {
   "display_name": "Python 3",
   "language": "python",
   "name": "python3"
  },
  "language_info": {
   "codemirror_mode": {
    "name": "ipython",
    "version": 3
   },
   "file_extension": ".py",
   "mimetype": "text/x-python",
   "name": "python",
   "nbconvert_exporter": "python",
   "pygments_lexer": "ipython3",
   "version": "3.6.6"
  },
  "toc": {
   "base_numbering": 1,
   "nav_menu": {},
   "number_sections": true,
   "sideBar": true,
   "skip_h1_title": false,
   "title_cell": "Table of Contents",
   "title_sidebar": "Contents",
   "toc_cell": false,
   "toc_position": {},
   "toc_section_display": true,
   "toc_window_display": true
  },
  "varInspector": {
   "cols": {
    "lenName": 16,
    "lenType": 16,
    "lenVar": 40
   },
   "kernels_config": {
    "python": {
     "delete_cmd_postfix": "",
     "delete_cmd_prefix": "del ",
     "library": "var_list.py",
     "varRefreshCmd": "print(var_dic_list())"
    },
    "r": {
     "delete_cmd_postfix": ") ",
     "delete_cmd_prefix": "rm(",
     "library": "var_list.r",
     "varRefreshCmd": "cat(var_dic_list()) "
    }
   },
   "types_to_exclude": [
    "module",
    "function",
    "builtin_function_or_method",
    "instance",
    "_Feature"
   ],
   "window_display": false
  }
 },
 "nbformat": 4,
 "nbformat_minor": 2
}
