{
 "cells": [
  {
   "cell_type": "code",
   "execution_count": 1,
   "metadata": {
    "ExecuteTime": {
     "end_time": "2018-10-11T13:53:55.465803Z",
     "start_time": "2018-10-11T13:53:55.460818Z"
    }
   },
   "outputs": [],
   "source": [
    "# dir_check"
   ]
  },
  {
   "cell_type": "code",
   "execution_count": 2,
   "metadata": {
    "ExecuteTime": {
     "end_time": "2018-10-11T13:53:55.496751Z",
     "start_time": "2018-10-11T13:53:55.467798Z"
    }
   },
   "outputs": [],
   "source": [
    "import pathlib\n",
    "from os import mkdir"
   ]
  },
  {
   "cell_type": "code",
   "execution_count": 3,
   "metadata": {
    "ExecuteTime": {
     "end_time": "2018-10-11T13:53:55.509720Z",
     "start_time": "2018-10-11T13:53:55.498715Z"
    }
   },
   "outputs": [],
   "source": [
    "def dir_check (dir_check = None, dir_create = True, return_type = 'Exist'):\n",
    "    print(f'===== path_helper/dir_check =====')\n",
    "    \n",
    "    if dir_check == None:\n",
    "        raise ValueError(\"No directory for checking.\")\n",
    "        \n",
    "    else:\n",
    "        current_dir = pathlib.Path.cwd()\n",
    "        # proj_dir = pathlib.Path(root_dir)\n",
    "        dir_query = pathlib.Path(dir_check)\n",
    "        dir_to_check = dir_query.resolve()\n",
    "        dir_to_check_exist = dir_to_check.exists()\n",
    "        \n",
    "        print(f'current_dir = {current_dir}')\n",
    "        # print(f'proj_dir = {proj_dir.resolve()}')\n",
    "        print(f'dir_to_check = {dir_to_check} | exist = {dir_query.exists()} | is_dir = {dir_query.is_dir()} | is_file = {dir_query.is_file()}')\n",
    "        \n",
    "        if dir_to_check_exist == True :\n",
    "            print (f'{dir_to_check} | exist, no action required.')\n",
    "        else:\n",
    "            # Not contain extension, is a directory\n",
    "            if len(dir_to_check.suffix) == 0 and dir_create == True:\n",
    "                print (f'{dir_to_check} | not exist, dir created.')\n",
    "                mkdir(dir_to_check)\n",
    "            \n",
    "            if len(dir_to_check.suffix) == 0 and dir_create == False :\n",
    "                print (f'{dir_to_check} | not exist, dir not created according to config.')\n",
    "                \n",
    "            # Contains extension, Not a directory\n",
    "            elif len(dir_to_check.suffix) != 0:\n",
    "                raise ValueError(f'{dir_to_check} | file not exist.')\n",
    "        \n",
    "            print (\"\\n\")\n",
    "        \n",
    "        if return_type == 'Exist':\n",
    "            return dir_to_check_exist\n",
    "        elif return_type == 'Path':\n",
    "            return str(dir_to_check)"
   ]
  },
  {
   "cell_type": "code",
   "execution_count": 4,
   "metadata": {
    "ExecuteTime": {
     "end_time": "2018-10-11T13:53:55.535617Z",
     "start_time": "2018-10-11T13:53:55.510684Z"
    }
   },
   "outputs": [
    {
     "name": "stdout",
     "output_type": "stream",
     "text": [
      "===== path_helper/dir_check =====\n",
      "current_dir = C:\\Users\\alana\\AnacondaProjects\\nous\\modules\\path_helper\n",
      "dir_to_check = abc | exist = False | is_dir = False | is_file = False\n",
      "abc | not exist, dir not created according to config.\n",
      "\n",
      "\n",
      "===== path_helper/dir_check =====\n",
      "current_dir = C:\\Users\\alana\\AnacondaProjects\\nous\\modules\\path_helper\n",
      "dir_to_check = def | exist = False | is_dir = False | is_file = False\n",
      "def | not exist, dir not created according to config.\n",
      "\n",
      "\n"
     ]
    }
   ],
   "source": [
    "# Test function for module  \n",
    "def _test():\n",
    "    assert dir_check(dir_check='abc', dir_create=False, return_type='Exist') == False\n",
    "    assert dir_check(dir_check='def', dir_create=False, return_type='Path') == 'def'\n",
    "\n",
    "if __name__ == '__main__':\n",
    "    _test()"
   ]
  }
 ],
 "metadata": {
  "kernelspec": {
   "display_name": "Python 3",
   "language": "python",
   "name": "python3"
  },
  "language_info": {
   "codemirror_mode": {
    "name": "ipython",
    "version": 3
   },
   "file_extension": ".py",
   "mimetype": "text/x-python",
   "name": "python",
   "nbconvert_exporter": "python",
   "pygments_lexer": "ipython3",
   "version": "3.6.6"
  },
  "toc": {
   "base_numbering": 1,
   "nav_menu": {},
   "number_sections": true,
   "sideBar": true,
   "skip_h1_title": false,
   "title_cell": "Table of Contents",
   "title_sidebar": "Contents",
   "toc_cell": false,
   "toc_position": {},
   "toc_section_display": true,
   "toc_window_display": true
  },
  "varInspector": {
   "cols": {
    "lenName": 16,
    "lenType": 16,
    "lenVar": 40
   },
   "kernels_config": {
    "python": {
     "delete_cmd_postfix": "",
     "delete_cmd_prefix": "del ",
     "library": "var_list.py",
     "varRefreshCmd": "print(var_dic_list())"
    },
    "r": {
     "delete_cmd_postfix": ") ",
     "delete_cmd_prefix": "rm(",
     "library": "var_list.r",
     "varRefreshCmd": "cat(var_dic_list()) "
    }
   },
   "types_to_exclude": [
    "module",
    "function",
    "builtin_function_or_method",
    "instance",
    "_Feature"
   ],
   "window_display": false
  }
 },
 "nbformat": 4,
 "nbformat_minor": 2
}
