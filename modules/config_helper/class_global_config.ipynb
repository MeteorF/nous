{
 "cells": [
  {
   "cell_type": "code",
   "execution_count": 1,
   "metadata": {
    "ExecuteTime": {
     "end_time": "2018-11-04T14:45:36.761253Z",
     "start_time": "2018-11-04T14:45:36.756269Z"
    }
   },
   "outputs": [],
   "source": [
    "# class_global_config\n",
    "#\n",
    "# Usage:\n",
    "# 1.Parse config file (format see settings/config.json) to variables\n",
    "# 2.Display converted keys and values\n",
    "# 3.Export keys and values as dictionary"
   ]
  },
  {
   "cell_type": "code",
   "execution_count": 2,
   "metadata": {
    "ExecuteTime": {
     "end_time": "2018-11-04T14:45:36.785239Z",
     "start_time": "2018-11-04T14:45:36.765242Z"
    }
   },
   "outputs": [],
   "source": [
    "class global_config:\n",
    "        \n",
    "    def __init__(self, args):\n",
    "        key = \"DEFAULT\"    \n",
    "        self.__dict__.update(args.get(key))\n",
    "        current_env = self.ENV\n",
    "        self.__dict__.update(args.get(current_env))\n",
    "    \n",
    "    def show_config(self):\n",
    "        for key, value in self.__dict__.items():\n",
    "                print (f\"key = {key} | value = {value}\")\n",
    "        \n",
    "    def exportConfig(self, display=False):\n",
    "        config_dict = {}\n",
    "        for key, value in self.__dict__.items():\n",
    "            config_dict.update({key: value})\n",
    "        \n",
    "        if display == True:\n",
    "            for key, value in self.__dict__.items():\n",
    "                print (f\"key = {key} | value = {value}\")\n",
    "            \n",
    "        return config_dict"
   ]
  },
  {
   "cell_type": "code",
   "execution_count": 3,
   "metadata": {
    "ExecuteTime": {
     "end_time": "2018-11-04T14:45:36.802146Z",
     "start_time": "2018-11-04T14:45:36.788180Z"
    }
   },
   "outputs": [
    {
     "name": "stdout",
     "output_type": "stream",
     "text": [
      "key = ADMIN_NAME | value = ...\n",
      "key = AWS_DEFAULT_REGION | value = ...\n",
      "key = MAX_IMAGE_SIZE | value = 5242880\n",
      "key = PROJ_DIR | value = C:/Users/alana/AnacondaProjects/nous\n",
      "key = INPUT_DIR | value = input\n",
      "key = OUTPUT_DIR | value = output\n",
      "key = SETTINGS_DIR | value = settings\n",
      "key = LOG_DIR | value = logs\n",
      "key = ENV | value = DEV\n",
      "key = VERSION | value = 0.0.1\n",
      "key = SECRET_KEY | value = \n",
      "key = DEBUG | value = T\n",
      "key = TEST_TMP_DIR | value = tests\n",
      "key = TEST_TIMEOUT | value = 20\n"
     ]
    }
   ],
   "source": [
    "# Test function for module  \n",
    "def _test():\n",
    "    config = {\n",
    "        \"DEFAULT\": {\n",
    "            \"ADMIN_NAME\": \"...\",\n",
    "            \"AWS_DEFAULT_REGION\": \"...\",\n",
    "            \"MAX_IMAGE_SIZE\": 5242880,\n",
    "            \"PROJ_DIR\": \"C:/Users/alana/AnacondaProjects/nous\",\n",
    "            \"INPUT_DIR\": \"input\",\n",
    "            \"OUTPUT_DIR\": \"output\",\n",
    "            \"SETTINGS_DIR\": \"settings\",\n",
    "            \"LOG_DIR\": \"logs\",\n",
    "            \"ENV\": \"DEV\"\n",
    "        },\n",
    "        \"DEV\": {\n",
    "            \"VERSION\": \"0.0.1\",\n",
    "            \"SECRET_KEY\": \"\",\n",
    "            \"DEBUG\": \"T\",\n",
    "            \"TEST_TMP_DIR\": \"tests\",\n",
    "            \"TEST_TIMEOUT\": 20\n",
    "        },\n",
    "        \"PRD\": {\n",
    "            \"VERSION\": \"0.0.1\",\n",
    "            \"SECRET_KEY\": \"\",\n",
    "            \"DEBUG\": \"F\",\n",
    "            \"SERVICE\": \"travis-ci\",\n",
    "            \"HOOK_URL\": \"...\"\n",
    "        }\n",
    "    }\n",
    "    \n",
    "    global __config__\n",
    "    global __exportConfig__\n",
    "    __config__ = global_config(config)\n",
    "    __exportConfig__ = __config__.exportConfig(display=True)\n",
    "    \n",
    "    assert (config.get(\"DEFAULT\").get(\"ENV\") == __exportConfig__.get(\"ENV\"))\n",
    "\n",
    "if __name__ == '__main__':\n",
    "    _test()"
   ]
  }
 ],
 "metadata": {
  "kernelspec": {
   "display_name": "Python 3",
   "language": "python",
   "name": "python3"
  },
  "language_info": {
   "codemirror_mode": {
    "name": "ipython",
    "version": 3
   },
   "file_extension": ".py",
   "mimetype": "text/x-python",
   "name": "python",
   "nbconvert_exporter": "python",
   "pygments_lexer": "ipython3",
   "version": "3.6.7"
  },
  "toc": {
   "base_numbering": 1,
   "nav_menu": {},
   "number_sections": true,
   "sideBar": true,
   "skip_h1_title": false,
   "title_cell": "Table of Contents",
   "title_sidebar": "Contents",
   "toc_cell": false,
   "toc_position": {},
   "toc_section_display": true,
   "toc_window_display": true
  },
  "varInspector": {
   "cols": {
    "lenName": 16,
    "lenType": 16,
    "lenVar": 40
   },
   "kernels_config": {
    "python": {
     "delete_cmd_postfix": "",
     "delete_cmd_prefix": "del ",
     "library": "var_list.py",
     "varRefreshCmd": "print(var_dic_list())"
    },
    "r": {
     "delete_cmd_postfix": ") ",
     "delete_cmd_prefix": "rm(",
     "library": "var_list.r",
     "varRefreshCmd": "cat(var_dic_list()) "
    }
   },
   "types_to_exclude": [
    "module",
    "function",
    "builtin_function_or_method",
    "instance",
    "_Feature"
   ],
   "window_display": false
  }
 },
 "nbformat": 4,
 "nbformat_minor": 2
}
