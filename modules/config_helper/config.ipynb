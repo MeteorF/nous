{
 "cells": [
  {
   "cell_type": "code",
   "execution_count": 1,
   "metadata": {
    "ExecuteTime": {
     "end_time": "2018-10-09T14:28:18.406600Z",
     "start_time": "2018-10-09T14:28:18.399620Z"
    }
   },
   "outputs": [],
   "source": [
    "# ../utilities/config\n",
    "# Last modify: 20181007"
   ]
  },
  {
   "cell_type": "markdown",
   "metadata": {},
   "source": [
    "# Parse Config\n",
    "\n",
    "Ref: https://hackernoon.com/4-ways-to-manage-the-configuration-in-python-4623049e841b"
   ]
  },
  {
   "cell_type": "code",
   "execution_count": 2,
   "metadata": {
    "ExecuteTime": {
     "end_time": "2018-10-09T14:28:18.434528Z",
     "start_time": "2018-10-09T14:28:18.411587Z"
    }
   },
   "outputs": [],
   "source": [
    "import os\n",
    "import json\n",
    "\n",
    "from path_ops import dir_check\n",
    "# import importlib\n",
    "# spec = importlib.util.spec_from_file_location(\"main\", \"util_path_ops.py\")\n",
    "# util_path_ops = importlib.util.module_from_spec(spec)\n",
    "# spec.loader.exec_module(util_path_ops)\n",
    "# from util_path_ops import dir_check"
   ]
  },
  {
   "cell_type": "code",
   "execution_count": 3,
   "metadata": {
    "ExecuteTime": {
     "end_time": "2018-10-09T14:28:18.450482Z",
     "start_time": "2018-10-09T14:28:18.438515Z"
    }
   },
   "outputs": [],
   "source": [
    "class global_config:\n",
    "\n",
    "    def __init__(self, args):\n",
    "        self.VERSION = args['VERSION']\n",
    "        self.ENV = args['ENV']\n",
    "        self.DEBUG = args['DEBUG']\n",
    "        self.PROJ_PATH = args['PROJ_PATH']\n",
    "        self.INPUT_PATH = args['INPUT_PATH']\n",
    "        self.OUTPUT_PATH = args['OUTPUT_PATH']\n",
    "        self.LOG_PATH = args['LOG_PATH']\n",
    "        \n",
    "    def show(self):\n",
    "        print (f\"VERSION = {self.VERSION} | type = {type(self.VERSION)}\")\n",
    "        print (f\"ENV = {self.ENV} | type = {type(self.ENV)}\")\n",
    "        print (f\"DEBUG = {self.DEBUG} | type = {type(self.DEBUG)}\")\n",
    "        print (f\"PROJ_PATH = {self.PROJ_PATH} | type = {type(self.PROJ_PATH)}\")\n",
    "        print (f\"INPUT_PATH = {self.INPUT_PATH} | type = {type(self.INPUT_PATH)}\")\n",
    "        print (f\"OUTPUT_PATH = {self.OUTPUT_PATH} | type = {type(self.OUTPUT_PATH)}\")\n",
    "        print (f\"LOG_PATH = {self.LOG_PATH} | type = {type(self.LOG_PATH)}\")\n",
    "        print (\"\\n\")"
   ]
  },
  {
   "cell_type": "code",
   "execution_count": 4,
   "metadata": {
    "ExecuteTime": {
     "end_time": "2018-10-09T14:28:18.465442Z",
     "start_time": "2018-10-09T14:28:18.453474Z"
    }
   },
   "outputs": [],
   "source": [
    "def get_config_val(config_key, ENV_specific = 'DEFAULT'):\n",
    "    print('===== config/get_config_val =====')\n",
    "    \n",
    "    if DEBUG:\n",
    "        print(f'Attempt to get: config_key = {config_key} | ENV_specific={ENV_specific}')\n",
    "    \n",
    "    if (config_key == None):\n",
    "        raise ValueError(f'config_key is none.')\n",
    "    else:\n",
    "        \n",
    "        value = __settings__[ENV_specific][config_key]\n",
    "        if DEBUG:\n",
    "            print (f'val={value} | type={type(value)} \\n')\n",
    "        \n",
    "        return value"
   ]
  },
  {
   "cell_type": "code",
   "execution_count": 5,
   "metadata": {
    "ExecuteTime": {
     "end_time": "2018-10-09T14:28:18.479404Z",
     "start_time": "2018-10-09T14:28:18.467437Z"
    }
   },
   "outputs": [],
   "source": [
    "def parse_config():\n",
    "    print('===== config/parse_config =====')\n",
    "    \n",
    "    global DEBUG, __settings__, __config__\n",
    "    \n",
    "#     config_file = 'settings/config.json'\n",
    "    config_file = 'C:\\\\Users\\\\alana\\\\AnacondaProjects\\\\nous\\\\settings\\\\config.json'\n",
    "    \n",
    "    config_file_path = dir_check(config_file, dir_create=False, return_type='Path')\n",
    "    \n",
    "    with open(config_file_path) as f:\n",
    "        # Read json as dictionary\n",
    "        __settings__ = json.load(f)\n",
    "    \n",
    "    VERSION = __settings__['DEFAULT']['VERSION']\n",
    "    ENV = __settings__['DEFAULT']['ENV']\n",
    "    DEBUG = str_to_bool(__settings__[ENV]['DEBUG'])\n",
    "    \n",
    "    config = {\n",
    "        \"VERSION\": VERSION,\n",
    "        \"ENV\": ENV,\n",
    "        \"DEBUG\": DEBUG,\n",
    "        \"PROJ_PATH\": dir_check(get_config_val('PROJ_DIR'), dir_create=False, return_type='Path'),\n",
    "        \"INPUT_PATH\": dir_check(get_config_val('INPUT_DIR'), dir_create=True, return_type='Path'),\n",
    "        \"OUTPUT_PATH\": dir_check(get_config_val('OUTPUT_DIR'), dir_create=True, return_type='Path'),\n",
    "        \"LOG_PATH\": dir_check(get_config_val('LOG_DIR'), dir_create=True, return_type='Path')\n",
    "    }\n",
    "    \n",
    "    __config__ = global_config(config)"
   ]
  },
  {
   "cell_type": "code",
   "execution_count": 6,
   "metadata": {
    "ExecuteTime": {
     "end_time": "2018-10-09T14:28:18.492370Z",
     "start_time": "2018-10-09T14:28:18.481401Z"
    }
   },
   "outputs": [],
   "source": [
    "def str_to_bool(s):\n",
    "    print('===== config/str_to_bool =====')\n",
    "    \n",
    "    s = s.upper()\n",
    "    if s in ('TRUE', 'T', '0'):\n",
    "         return True\n",
    "    elif s in ('FALSE', 'F', '1'):\n",
    "         return False\n",
    "    else:\n",
    "         raise ValueError(f'Boolean Value {s} cannot be evaluated.')"
   ]
  },
  {
   "cell_type": "code",
   "execution_count": 7,
   "metadata": {
    "ExecuteTime": {
     "end_time": "2018-10-09T14:28:18.510322Z",
     "start_time": "2018-10-09T14:28:18.494366Z"
    }
   },
   "outputs": [],
   "source": [
    "def init():\n",
    "    print('===== config/init =====')\n",
    "    parse_config()\n",
    "#     print(get_config_val(config_key='SETTINGS_DIR'))"
   ]
  },
  {
   "cell_type": "code",
   "execution_count": 8,
   "metadata": {
    "ExecuteTime": {
     "end_time": "2018-10-09T14:28:18.532263Z",
     "start_time": "2018-10-09T14:28:18.512318Z"
    },
    "scrolled": true
   },
   "outputs": [
    {
     "name": "stdout",
     "output_type": "stream",
     "text": [
      "===== config/init =====\n",
      "===== config/parse_config =====\n",
      "===== util_dir_check/util_path_ops =====\n",
      "current_dir = C:\\Users\\alana\\AnacondaProjects\\nous\\modules\n",
      "dir_to_check = C:\\Users\\alana\\AnacondaProjects\\nous\\settings\\config.json | exist = True | is_dir = False | is_file = True\n",
      "C:\\Users\\alana\\AnacondaProjects\\nous\\settings\\config.json | exist, no action required.\n",
      "===== config/str_to_bool =====\n",
      "===== config/get_config_val =====\n",
      "Attempt to get: config_key = PROJ_DIR | ENV_specific=DEFAULT\n",
      "val=C:\\Users\\alana\\AnacondaProjects\\nous | type=<class 'str'> \n",
      "\n",
      "===== util_dir_check/util_path_ops =====\n",
      "current_dir = C:\\Users\\alana\\AnacondaProjects\\nous\\modules\n",
      "dir_to_check = C:\\Users\\alana\\AnacondaProjects\\nous | exist = True | is_dir = True | is_file = False\n",
      "C:\\Users\\alana\\AnacondaProjects\\nous | exist, no action required.\n",
      "===== config/get_config_val =====\n",
      "Attempt to get: config_key = INPUT_DIR | ENV_specific=DEFAULT\n",
      "val=../input | type=<class 'str'> \n",
      "\n",
      "===== util_dir_check/util_path_ops =====\n",
      "current_dir = C:\\Users\\alana\\AnacondaProjects\\nous\\modules\n",
      "dir_to_check = C:\\Users\\alana\\AnacondaProjects\\nous\\input | exist = True | is_dir = True | is_file = False\n",
      "C:\\Users\\alana\\AnacondaProjects\\nous\\input | exist, no action required.\n",
      "===== config/get_config_val =====\n",
      "Attempt to get: config_key = OUTPUT_DIR | ENV_specific=DEFAULT\n",
      "val=../output | type=<class 'str'> \n",
      "\n",
      "===== util_dir_check/util_path_ops =====\n",
      "current_dir = C:\\Users\\alana\\AnacondaProjects\\nous\\modules\n",
      "dir_to_check = C:\\Users\\alana\\AnacondaProjects\\nous\\output | exist = True | is_dir = True | is_file = False\n",
      "C:\\Users\\alana\\AnacondaProjects\\nous\\output | exist, no action required.\n",
      "===== config/get_config_val =====\n",
      "Attempt to get: config_key = LOG_DIR | ENV_specific=DEFAULT\n",
      "val=../logs | type=<class 'str'> \n",
      "\n",
      "===== util_dir_check/util_path_ops =====\n",
      "current_dir = C:\\Users\\alana\\AnacondaProjects\\nous\\modules\n",
      "dir_to_check = C:\\Users\\alana\\AnacondaProjects\\nous\\logs | exist = True | is_dir = True | is_file = False\n",
      "C:\\Users\\alana\\AnacondaProjects\\nous\\logs | exist, no action required.\n"
     ]
    }
   ],
   "source": [
    "if __name__ == '__main__':\n",
    "    init()"
   ]
  }
 ],
 "metadata": {
  "kernelspec": {
   "display_name": "Python 3",
   "language": "python",
   "name": "python3"
  },
  "language_info": {
   "codemirror_mode": {
    "name": "ipython",
    "version": 3
   },
   "file_extension": ".py",
   "mimetype": "text/x-python",
   "name": "python",
   "nbconvert_exporter": "python",
   "pygments_lexer": "ipython3",
   "version": "3.6.6"
  },
  "toc": {
   "base_numbering": 1,
   "nav_menu": {},
   "number_sections": true,
   "sideBar": true,
   "skip_h1_title": false,
   "title_cell": "Table of Contents",
   "title_sidebar": "Contents",
   "toc_cell": false,
   "toc_position": {},
   "toc_section_display": true,
   "toc_window_display": true
  },
  "varInspector": {
   "cols": {
    "lenName": 16,
    "lenType": 16,
    "lenVar": 40
   },
   "kernels_config": {
    "python": {
     "delete_cmd_postfix": "",
     "delete_cmd_prefix": "del ",
     "library": "var_list.py",
     "varRefreshCmd": "print(var_dic_list())"
    },
    "r": {
     "delete_cmd_postfix": ") ",
     "delete_cmd_prefix": "rm(",
     "library": "var_list.r",
     "varRefreshCmd": "cat(var_dic_list()) "
    }
   },
   "types_to_exclude": [
    "module",
    "function",
    "builtin_function_or_method",
    "instance",
    "_Feature"
   ],
   "window_display": false
  }
 },
 "nbformat": 4,
 "nbformat_minor": 2
}
