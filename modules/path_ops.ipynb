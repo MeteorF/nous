{
 "cells": [
  {
   "cell_type": "code",
   "execution_count": 1,
   "metadata": {
    "ExecuteTime": {
     "end_time": "2018-10-07T15:43:34.584798Z",
     "start_time": "2018-10-07T15:43:34.580811Z"
    }
   },
   "outputs": [],
   "source": [
    "# ../utilities/path_ops\n",
    "# Last modify: 20181007"
   ]
  },
  {
   "cell_type": "markdown",
   "metadata": {
    "ExecuteTime": {
     "end_time": "2018-10-01T14:36:01.145607Z",
     "start_time": "2018-10-01T14:36:01.138630Z"
    }
   },
   "source": [
    "## Picking Out Components of a Path\n",
    "Ref: https://realpython.com/python-pathlib/ <br>\n",
    "The different parts of a path are conveniently available as properties. Basic examples include:\n",
    "<ul>\n",
    "    <li>.name: the file name without any directory</li>\n",
    "    <li>.parent: the directory containing the file, or the parent directory if path is a directory</li>\n",
    "    <li>.stem: the file name without the suffix</li>\n",
    "    <li>.suffix: the file extension</li>\n",
    "    <li>.anchor: the part of the path before the directories</li>\n",
    "</ul>"
   ]
  },
  {
   "cell_type": "code",
   "execution_count": 2,
   "metadata": {
    "ExecuteTime": {
     "end_time": "2018-10-07T15:59:45.379648Z",
     "start_time": "2018-10-07T15:59:45.375658Z"
    }
   },
   "outputs": [],
   "source": [
    "from os import mkdir\n",
    "from os import chdir\n",
    "import pathlib\n",
    "import datetime"
   ]
  },
  {
   "cell_type": "code",
   "execution_count": 3,
   "metadata": {
    "ExecuteTime": {
     "end_time": "2018-10-07T15:43:34.614718Z",
     "start_time": "2018-10-07T15:43:34.602750Z"
    }
   },
   "outputs": [],
   "source": [
    "def dir_check_bak (dir_check = None, dir_create = True, return_type = 'Bool'):\n",
    "    print(f'===== util_dir_check/util_path_ops =====')\n",
    "    \n",
    "    if dir_check == None:\n",
    "        raise ValueError(\"No directory for checking.\")\n",
    "        \n",
    "    else:\n",
    "        current_dir = pathlib.Path.cwd()\n",
    "        print(f'current_dir = {current_dir}')\n",
    "        proj_dir = current_dir.relative_to('../nous')\n",
    "        dir_to_check = proj_dir.joinpath(dir_check)\n",
    "        dir_to_check_exist = False\n",
    "        \n",
    "        if dir_to_check.exists() :\n",
    "            print (f'{dir_to_check} | exist, no action required.')\n",
    "            dir_to_check_exist = True\n",
    "        else:\n",
    "            \n",
    "            # Not contain extension, is a directory\n",
    "            if len(dir_to_check.suffix) == 0 and dir_create == True:\n",
    "                print (f'{dir_to_check} | exist, dir created.')\n",
    "                mkdir(dir_to_check)\n",
    "                dir_to_check_exist = True\n",
    "            \n",
    "            elif len(dir_to_check.suffix) == 0 and dir_create == False :\n",
    "                print (f'{dir_to_check} | exist, dir not created according to config.')\n",
    "                \n",
    "            # Contains extension, Not a directory\n",
    "            elif len(dir_to_check.suffix) != 0:\n",
    "                raise ValueError(f'{dir_to_check} | file not exist.')\n",
    "        \n",
    "        if return_type == 'Bool':\n",
    "            return dir_to_check_exist\n",
    "        elif return_type == 'Path':\n",
    "            return str(dir_to_check)"
   ]
  },
  {
   "cell_type": "code",
   "execution_count": 1,
   "metadata": {
    "ExecuteTime": {
     "end_time": "2018-10-07T15:58:36.221784Z",
     "start_time": "2018-10-07T15:58:36.213792Z"
    }
   },
   "outputs": [],
   "source": [
    "def dir_check (dir_check = None, dir_create = True, return_type = 'Exist'):\n",
    "    print(f'===== util_dir_check/util_path_ops =====')\n",
    "    \n",
    "    if dir_check == None:\n",
    "        raise ValueError(\"No directory for checking.\")\n",
    "        \n",
    "    else:\n",
    "        current_dir = pathlib.Path.cwd()\n",
    "        # proj_dir = pathlib.Path(root_dir)\n",
    "        dir_query = pathlib.Path(dir_check)\n",
    "        dir_to_check = dir_query.resolve()\n",
    "        dir_to_check_exist = dir_to_check.exists()\n",
    "        \n",
    "        print(f'current_dir = {current_dir}')\n",
    "        # print(f'proj_dir = {proj_dir.resolve()}')\n",
    "        print(f'dir_to_check = {dir_to_check} | exist = {dir_query.exists()} | is_dir = {dir_query.is_dir()} | is_file = {dir_query.is_file()}')\n",
    "        \n",
    "        if dir_to_check_exist == True :\n",
    "            print (f'{dir_to_check} | exist, no action required.')\n",
    "        else:\n",
    "            # Not contain extension, is a directory\n",
    "            if len(dir_to_check.suffix) == 0 and dir_create == True:\n",
    "                print (f'{dir_to_check} | exist, dir created.')\n",
    "                mkdir(dir_to_check)\n",
    "            \n",
    "            if len(dir_to_check.suffix) == 0 and dir_create == False :\n",
    "                print (f'{dir_to_check} | exist, dir not created according to config.')\n",
    "                \n",
    "            # Contains extension, Not a directory\n",
    "            elif len(dir_to_check.suffix) != 0:\n",
    "                raise ValueError(f'{dir_to_check} | file not exist.')\n",
    "        \n",
    "        if return_type == 'Exist':\n",
    "            return dir_to_check_exist\n",
    "        elif return_type == 'Path':\n",
    "            return str(dir_to_check)"
   ]
  },
  {
   "cell_type": "code",
   "execution_count": 5,
   "metadata": {
    "ExecuteTime": {
     "end_time": "2018-10-07T15:43:34.643642Z",
     "start_time": "2018-10-07T15:43:34.630675Z"
    }
   },
   "outputs": [],
   "source": [
    "def getOutputFileName(extension='.txt', path=None, custom_name=None):\n",
    "    ## Output file name setting\n",
    "    \n",
    "    if (path == None):\n",
    "        raise ValueError(\"No path is received\")\n",
    "    else:\n",
    "        # Parse string to path object\n",
    "        path = dir_check(path, dir_create=False, return_type='Path')\n",
    "        path = pathlib.PurePath(path)\n",
    "        \n",
    "    now = datetime.datetime.now()\n",
    "    # print(now.strftime(\"%Y%m%d_%H%M%S\"))\n",
    "    timeStampStr = str(now.strftime(\"%Y%m%d_%H%M%S%f\"))\n",
    "    \n",
    "    if (custom_name == None):\n",
    "        output_filename = 'output_' + timeStampStr + extension\n",
    "    elif (len(custom_name) > 0):\n",
    "        output_filename = custom_name[:20] + '_' + timeStampStr + extension\n",
    "    elif (len(custom_name) == 0):\n",
    "        output_filename = timeStampStr + extension\n",
    "    \n",
    "    ## output_filename = os.path.join(output_folder, output_filename) + extension\n",
    "    path = path.joinpath(output_filename)\n",
    "    \n",
    "    print(f'path = {path}')\n",
    "    return str(path)"
   ]
  },
  {
   "cell_type": "code",
   "execution_count": 6,
   "metadata": {
    "ExecuteTime": {
     "end_time": "2018-10-07T15:43:34.657609Z",
     "start_time": "2018-10-07T15:43:34.645635Z"
    }
   },
   "outputs": [],
   "source": [
    "def display_dir_tree(directory):\n",
    "    print(f'===== util_dir_check/display_dir_tree =====')\n",
    "    print(f'+ {directory}')\n",
    "    \n",
    "    for path in sorted(directory.rglob('*')):\n",
    "        depth = len(path.relative_to(directory).parts)\n",
    "        spacer = '    ' * depth\n",
    "        print(f'{spacer}+ {path.name}')"
   ]
  },
  {
   "cell_type": "code",
   "execution_count": 7,
   "metadata": {
    "ExecuteTime": {
     "end_time": "2018-10-07T15:43:34.671565Z",
     "start_time": "2018-10-07T15:43:34.659598Z"
    }
   },
   "outputs": [],
   "source": [
    "def main():\n",
    "    print(f\"dir_check(Path option) = {dir_check('settings/abcccc', dir_create = False, return_type='Path')}\")\n",
    "    print(f\"dir_check(Exist option) = {dir_check('settings/abcccc', dir_create = False, return_type='Exist')}\")\n",
    "    # display_dir_tree(pathlib.Path.cwd().parent)"
   ]
  },
  {
   "cell_type": "code",
   "execution_count": 8,
   "metadata": {
    "ExecuteTime": {
     "end_time": "2018-10-07T15:43:34.698495Z",
     "start_time": "2018-10-07T15:43:34.673562Z"
    },
    "scrolled": false
   },
   "outputs": [
    {
     "name": "stdout",
     "output_type": "stream",
     "text": [
      "===== util_dir_check/util_path_ops =====\n",
      "current_dir = C:\\Users\\alana\\AnacondaProjects\\nous\\modules\n",
      "dir_to_check = settings\\abcccc | exist = False | is_dir = False | is_file = False\n",
      "settings\\abcccc | exist, dir not created according to config.\n",
      "dir_check(Path option) = settings\\abcccc\n",
      "===== util_dir_check/util_path_ops =====\n",
      "current_dir = C:\\Users\\alana\\AnacondaProjects\\nous\\modules\n",
      "dir_to_check = settings\\abcccc | exist = False | is_dir = False | is_file = False\n",
      "settings\\abcccc | exist, dir not created according to config.\n",
      "dir_check(Exist option) = False\n"
     ]
    }
   ],
   "source": [
    "if __name__ == '__main__':\n",
    "    main()"
   ]
  }
 ],
 "metadata": {
  "kernelspec": {
   "display_name": "Python 3",
   "language": "python",
   "name": "python3"
  },
  "language_info": {
   "codemirror_mode": {
    "name": "ipython",
    "version": 3
   },
   "file_extension": ".py",
   "mimetype": "text/x-python",
   "name": "python",
   "nbconvert_exporter": "python",
   "pygments_lexer": "ipython3",
   "version": "3.6.6"
  },
  "toc": {
   "base_numbering": 1,
   "nav_menu": {},
   "number_sections": true,
   "sideBar": true,
   "skip_h1_title": false,
   "title_cell": "Table of Contents",
   "title_sidebar": "Contents",
   "toc_cell": false,
   "toc_position": {},
   "toc_section_display": true,
   "toc_window_display": true
  },
  "varInspector": {
   "cols": {
    "lenName": 16,
    "lenType": 16,
    "lenVar": 40
   },
   "kernels_config": {
    "python": {
     "delete_cmd_postfix": "",
     "delete_cmd_prefix": "del ",
     "library": "var_list.py",
     "varRefreshCmd": "print(var_dic_list())"
    },
    "r": {
     "delete_cmd_postfix": ") ",
     "delete_cmd_prefix": "rm(",
     "library": "var_list.r",
     "varRefreshCmd": "cat(var_dic_list()) "
    }
   },
   "types_to_exclude": [
    "module",
    "function",
    "builtin_function_or_method",
    "instance",
    "_Feature"
   ],
   "window_display": false
  }
 },
 "nbformat": 4,
 "nbformat_minor": 2
}
