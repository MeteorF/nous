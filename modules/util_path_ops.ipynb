{
 "cells": [
  {
   "cell_type": "code",
   "execution_count": 1,
   "metadata": {
    "ExecuteTime": {
     "end_time": "2018-10-06T15:03:07.513823Z",
     "start_time": "2018-10-06T15:03:07.502854Z"
    }
   },
   "outputs": [],
   "source": [
    "# ../utilities/util_path_ops\n",
    "# Last modify: 20181001"
   ]
  },
  {
   "cell_type": "markdown",
   "metadata": {
    "ExecuteTime": {
     "end_time": "2018-10-01T14:36:01.145607Z",
     "start_time": "2018-10-01T14:36:01.138630Z"
    }
   },
   "source": [
    "## Picking Out Components of a Path\n",
    "Ref: https://realpython.com/python-pathlib/ <br>\n",
    "The different parts of a path are conveniently available as properties. Basic examples include:\n",
    "<ul>\n",
    "    <li>.name: the file name without any directory</li>\n",
    "    <li>.parent: the directory containing the file, or the parent directory if path is a directory</li>\n",
    "    <li>.stem: the file name without the suffix</li>\n",
    "    <li>.suffix: the file extension</li>\n",
    "    <li>.anchor: the part of the path before the directories</li>\n",
    "</ul>"
   ]
  },
  {
   "cell_type": "code",
   "execution_count": 2,
   "metadata": {
    "ExecuteTime": {
     "end_time": "2018-10-06T15:03:07.539790Z",
     "start_time": "2018-10-06T15:03:07.518810Z"
    }
   },
   "outputs": [],
   "source": [
    "from os import mkdir\n",
    "import pathlib"
   ]
  },
  {
   "cell_type": "code",
   "execution_count": 23,
   "metadata": {
    "ExecuteTime": {
     "end_time": "2018-10-06T15:10:41.673710Z",
     "start_time": "2018-10-06T15:10:41.663737Z"
    }
   },
   "outputs": [],
   "source": [
    "def dir_check_bak (dir_check = None, dir_create = True, return_type = 'Bool'):\n",
    "    print(f'===== util_dir_check/util_path_ops =====')\n",
    "    \n",
    "    if dir_check == None:\n",
    "        raise ValueError(\"No directory for checking.\")\n",
    "        \n",
    "    else:\n",
    "        current_dir = pathlib.Path.cwd()\n",
    "        print(f'current_dir = {current_dir}')\n",
    "        proj_dir = current_dir.relative_to('../nous')\n",
    "        dir_to_check = proj_dir.joinpath(dir_check)\n",
    "        dir_to_check_exist = False\n",
    "        \n",
    "        if dir_to_check.exists() :\n",
    "            print (f'{dir_to_check} | exist, no action required.')\n",
    "            dir_to_check_exist = True\n",
    "        else:\n",
    "            \n",
    "            # Not contain extension, is a directory\n",
    "            if len(dir_to_check.suffix) == 0 and dir_create == True:\n",
    "                print (f'{dir_to_check} | exist, dir created.')\n",
    "                mkdir(dir_to_check)\n",
    "                dir_to_check_exist = True\n",
    "            \n",
    "            elif len(dir_to_check.suffix) == 0 and dir_create == False :\n",
    "                print (f'{dir_to_check} | exist, dir not created according to config.')\n",
    "                \n",
    "            # Contains extension, Not a directory\n",
    "            elif len(dir_to_check.suffix) != 0:\n",
    "                raise ValueError(f'{dir_to_check} | file not exist.')\n",
    "        \n",
    "        if return_type == 'Bool':\n",
    "            return dir_to_check_exist\n",
    "        elif return_type == 'Path':\n",
    "            return str(dir_to_check)"
   ]
  },
  {
   "cell_type": "code",
   "execution_count": 49,
   "metadata": {
    "ExecuteTime": {
     "end_time": "2018-10-06T15:22:35.909600Z",
     "start_time": "2018-10-06T15:22:35.896635Z"
    }
   },
   "outputs": [],
   "source": [
    "def dir_check (dir_check = None, dir_create = True, return_type = 'Exist'):\n",
    "    print(f'===== util_dir_check/util_path_ops =====')\n",
    "    \n",
    "    if dir_check == None:\n",
    "        raise ValueError(\"No directory for checking.\")\n",
    "        \n",
    "    else:\n",
    "        current_dir = pathlib.Path.cwd()\n",
    "        proj_dir = pathlib.Path('..')\n",
    "        dir_query = proj_dir / dir_check\n",
    "        dir_to_check = dir_query.resolve()\n",
    "        dir_to_check_exist = dir_query.exists()\n",
    "        \n",
    "        print(f'current_dir = {current_dir}')\n",
    "        print(f'proj_dir = {proj_dir.resolve()}')\n",
    "        print(f'dir_to_check = {dir_to_check} | exist = {dir_query.exists()} | is_dir = {dir_query.is_dir()} | is_file = {dir_query.is_file()}')\n",
    "        \n",
    "        if dir_to_check_exist == True :\n",
    "            print (f'{dir_to_check} | exist, no action required.')\n",
    "        else:\n",
    "            # Not contain extension, is a directory\n",
    "            if len(dir_to_check.suffix) == 0 and dir_create == True:\n",
    "                print (f'{dir_to_check} | exist, dir created.')\n",
    "                mkdir(dir_to_check)\n",
    "            \n",
    "            if len(dir_to_check.suffix) == 0 and dir_create == False :\n",
    "                print (f'{dir_to_check} | exist, dir not created according to config.')\n",
    "                \n",
    "            # Contains extension, Not a directory\n",
    "            elif len(dir_to_check.suffix) != 0:\n",
    "                raise ValueError(f'{dir_to_check} | file not exist.')\n",
    "        \n",
    "        if return_type == 'Exist':\n",
    "            return dir_to_check_exist\n",
    "        elif return_type == 'Path':\n",
    "            return str(dir_to_check)"
   ]
  },
  {
   "cell_type": "code",
   "execution_count": 4,
   "metadata": {
    "ExecuteTime": {
     "end_time": "2018-10-06T15:03:07.570669Z",
     "start_time": "2018-10-06T15:03:07.557706Z"
    }
   },
   "outputs": [],
   "source": [
    "def display_dir_tree(directory):\n",
    "    print(f'===== util_dir_check/display_dir_tree =====')\n",
    "    print(f'+ {directory}')\n",
    "    \n",
    "    for path in sorted(directory.rglob('*')):\n",
    "        depth = len(path.relative_to(directory).parts)\n",
    "        spacer = '    ' * depth\n",
    "        print(f'{spacer}+ {path.name}')"
   ]
  },
  {
   "cell_type": "code",
   "execution_count": 54,
   "metadata": {
    "ExecuteTime": {
     "end_time": "2018-10-06T15:24:32.019425Z",
     "start_time": "2018-10-06T15:24:32.014442Z"
    }
   },
   "outputs": [],
   "source": [
    "def main():\n",
    "    print(f\"dir_check(Path option) = {dir_check('settings/abcccc', dir_create = False, return_type='Path')}\")\n",
    "    print(f\"dir_check(Exist option) = {dir_check('settings/abcccc', dir_create = False, return_type='Exist')}\")\n",
    "    display_dir_tree(pathlib.Path.cwd().parent)"
   ]
  },
  {
   "cell_type": "code",
   "execution_count": 11,
   "metadata": {
    "ExecuteTime": {
     "end_time": "2018-10-06T15:42:22.120548Z",
     "start_time": "2018-10-06T15:42:22.108584Z"
    },
    "scrolled": false
   },
   "outputs": [
    {
     "name": "stdout",
     "output_type": "stream",
     "text": [
      "__main__\n"
     ]
    },
    {
     "ename": "NameError",
     "evalue": "name 'main' is not defined",
     "output_type": "error",
     "traceback": [
      "\u001b[1;31m---------------------------------------------------------------------------\u001b[0m",
      "\u001b[1;31mNameError\u001b[0m                                 Traceback (most recent call last)",
      "\u001b[1;32m<ipython-input-11-92f7d0c12c9f>\u001b[0m in \u001b[0;36m<module>\u001b[1;34m()\u001b[0m\n\u001b[0;32m      1\u001b[0m \u001b[0mprint\u001b[0m \u001b[1;33m(\u001b[0m\u001b[1;34mf'{__name__}'\u001b[0m\u001b[1;33m)\u001b[0m\u001b[1;33m\u001b[0m\u001b[0m\n\u001b[0;32m      2\u001b[0m \u001b[1;32mif\u001b[0m \u001b[0m__name__\u001b[0m \u001b[1;33m==\u001b[0m \u001b[1;34m'__main__'\u001b[0m\u001b[1;33m:\u001b[0m\u001b[1;33m\u001b[0m\u001b[0m\n\u001b[1;32m----> 3\u001b[1;33m     \u001b[0mmain\u001b[0m\u001b[1;33m(\u001b[0m\u001b[1;33m)\u001b[0m\u001b[1;33m\u001b[0m\u001b[0m\n\u001b[0m",
      "\u001b[1;31mNameError\u001b[0m: name 'main' is not defined"
     ]
    }
   ],
   "source": [
    "print (f'{__name__}')\n",
    "if __name__ == '__main__':\n",
    "    main()"
   ]
  },
  {
   "cell_type": "code",
   "execution_count": 1,
   "metadata": {
    "ExecuteTime": {
     "end_time": "2018-10-06T15:36:07.991340Z",
     "start_time": "2018-10-06T15:36:07.987830Z"
    }
   },
   "outputs": [],
   "source": []
  },
  {
   "cell_type": "code",
   "execution_count": 5,
   "metadata": {
    "ExecuteTime": {
     "end_time": "2018-10-06T15:36:40.731022Z",
     "start_time": "2018-10-06T15:36:40.725040Z"
    }
   },
   "outputs": [
    {
     "data": {
      "text/plain": [
       "WindowsPath('C:/Users/alana/AnacondaProjects/nous')"
      ]
     },
     "execution_count": 5,
     "metadata": {},
     "output_type": "execute_result"
    }
   ],
   "source": [
    "import pathlib\n",
    "p = pathlib.Path('../')\n",
    "p.resolve()"
   ]
  },
  {
   "cell_type": "code",
   "execution_count": 8,
   "metadata": {
    "ExecuteTime": {
     "end_time": "2018-10-06T15:38:49.670845Z",
     "start_time": "2018-10-06T15:38:49.662866Z"
    }
   },
   "outputs": [
    {
     "data": {
      "text/plain": [
       "'.'"
      ]
     },
     "execution_count": 8,
     "metadata": {},
     "output_type": "execute_result"
    }
   ],
   "source": [
    "pp = pathlib.PurePath('.')\n",
    "str(pp)"
   ]
  },
  {
   "cell_type": "code",
   "execution_count": 10,
   "metadata": {
    "ExecuteTime": {
     "end_time": "2018-10-06T15:41:56.456266Z",
     "start_time": "2018-10-06T15:41:56.444301Z"
    }
   },
   "outputs": [
    {
     "ename": "NameError",
     "evalue": "name '__file__' is not defined",
     "output_type": "error",
     "traceback": [
      "\u001b[1;31m---------------------------------------------------------------------------\u001b[0m",
      "\u001b[1;31mNameError\u001b[0m                                 Traceback (most recent call last)",
      "\u001b[1;32m<ipython-input-10-358d5687b810>\u001b[0m in \u001b[0;36m<module>\u001b[1;34m()\u001b[0m\n\u001b[1;32m----> 1\u001b[1;33m \u001b[0m__file__\u001b[0m\u001b[1;33m\u001b[0m\u001b[0m\n\u001b[0m",
      "\u001b[1;31mNameError\u001b[0m: name '__file__' is not defined"
     ]
    }
   ],
   "source": []
  }
 ],
 "metadata": {
  "kernelspec": {
   "display_name": "Python 3",
   "language": "python",
   "name": "python3"
  },
  "language_info": {
   "codemirror_mode": {
    "name": "ipython",
    "version": 3
   },
   "file_extension": ".py",
   "mimetype": "text/x-python",
   "name": "python",
   "nbconvert_exporter": "python",
   "pygments_lexer": "ipython3",
   "version": "3.6.6"
  },
  "toc": {
   "base_numbering": 1,
   "nav_menu": {},
   "number_sections": true,
   "sideBar": true,
   "skip_h1_title": false,
   "title_cell": "Table of Contents",
   "title_sidebar": "Contents",
   "toc_cell": false,
   "toc_position": {},
   "toc_section_display": true,
   "toc_window_display": true
  },
  "varInspector": {
   "cols": {
    "lenName": 16,
    "lenType": 16,
    "lenVar": 40
   },
   "kernels_config": {
    "python": {
     "delete_cmd_postfix": "",
     "delete_cmd_prefix": "del ",
     "library": "var_list.py",
     "varRefreshCmd": "print(var_dic_list())"
    },
    "r": {
     "delete_cmd_postfix": ") ",
     "delete_cmd_prefix": "rm(",
     "library": "var_list.r",
     "varRefreshCmd": "cat(var_dic_list()) "
    }
   },
   "types_to_exclude": [
    "module",
    "function",
    "builtin_function_or_method",
    "instance",
    "_Feature"
   ],
   "window_display": false
  }
 },
 "nbformat": 4,
 "nbformat_minor": 2
}
