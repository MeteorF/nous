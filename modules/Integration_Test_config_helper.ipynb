{
 "cells": [
  {
   "cell_type": "code",
   "execution_count": 1,
   "metadata": {
    "ExecuteTime": {
     "end_time": "2018-11-04T14:48:19.073303Z",
     "start_time": "2018-11-04T14:48:19.050327Z"
    }
   },
   "outputs": [],
   "source": [
    "import config_helper"
   ]
  },
  {
   "cell_type": "code",
   "execution_count": 2,
   "metadata": {
    "ExecuteTime": {
     "end_time": "2018-11-04T14:48:19.086229Z",
     "start_time": "2018-11-04T14:48:19.076257Z"
    }
   },
   "outputs": [],
   "source": [
    "# Unit Test: config_helper.global_config\n",
    "def _test_global_config():\n",
    "    print (f'===== Unit Test: config_helper/global_config =====')\n",
    "    config = {\n",
    "        \"DEFAULT\": {\n",
    "            \"ADMIN_NAME\": \"...\",\n",
    "            \"AWS_DEFAULT_REGION\": \"...\",\n",
    "            \"MAX_IMAGE_SIZE\": 5242880,\n",
    "            \"PROJ_DIR\": \"C:/Users/alana/AnacondaProjects/nous\",\n",
    "            \"INPUT_DIR\": \"input\",\n",
    "            \"OUTPUT_DIR\": \"output\",\n",
    "            \"SETTINGS_DIR\": \"settings\",\n",
    "            \"LOG_DIR\": \"logs\",\n",
    "            \"ENV\": \"DEV\"\n",
    "        },\n",
    "        \"DEV\": {\n",
    "            \"VERSION\": \"0.0.1\",\n",
    "            \"SECRET_KEY\": \"\",\n",
    "            \"DEBUG\": \"T\",\n",
    "            \"TEST_TMP_DIR\": \"tests\",\n",
    "            \"TEST_TIMEOUT\": 20\n",
    "        },\n",
    "        \"PRD\": {\n",
    "            \"VERSION\": \"0.0.1\",\n",
    "            \"SECRET_KEY\": \"\",\n",
    "            \"DEBUG\": \"F\",\n",
    "            \"SERVICE\": \"travis-ci\",\n",
    "            \"HOOK_URL\": \"...\"\n",
    "        }\n",
    "    }\n",
    "    \n",
    "    global __config__\n",
    "    global __exportConfig__\n",
    "    \n",
    "    __config__ = config_helper.global_config(config)\n",
    "    __config__.show_config()\n",
    "    print('--------')\n",
    "    __config__.exportConfig(display=True)"
   ]
  },
  {
   "cell_type": "code",
   "execution_count": 3,
   "metadata": {
    "ExecuteTime": {
     "end_time": "2018-11-04T14:48:19.108690Z",
     "start_time": "2018-11-04T14:48:19.088228Z"
    }
   },
   "outputs": [
    {
     "name": "stdout",
     "output_type": "stream",
     "text": [
      "===== Unit Test: config_helper/global_config =====\n",
      "key = ADMIN_NAME | value = ...\n",
      "key = AWS_DEFAULT_REGION | value = ...\n",
      "key = MAX_IMAGE_SIZE | value = 5242880\n",
      "key = PROJ_DIR | value = C:/Users/alana/AnacondaProjects/nous\n",
      "key = INPUT_DIR | value = input\n",
      "key = OUTPUT_DIR | value = output\n",
      "key = SETTINGS_DIR | value = settings\n",
      "key = LOG_DIR | value = logs\n",
      "key = ENV | value = DEV\n",
      "key = VERSION | value = 0.0.1\n",
      "key = SECRET_KEY | value = \n",
      "key = DEBUG | value = T\n",
      "key = TEST_TMP_DIR | value = tests\n",
      "key = TEST_TIMEOUT | value = 20\n",
      "--------\n",
      "key = ADMIN_NAME | value = ...\n",
      "key = AWS_DEFAULT_REGION | value = ...\n",
      "key = MAX_IMAGE_SIZE | value = 5242880\n",
      "key = PROJ_DIR | value = C:/Users/alana/AnacondaProjects/nous\n",
      "key = INPUT_DIR | value = input\n",
      "key = OUTPUT_DIR | value = output\n",
      "key = SETTINGS_DIR | value = settings\n",
      "key = LOG_DIR | value = logs\n",
      "key = ENV | value = DEV\n",
      "key = VERSION | value = 0.0.1\n",
      "key = SECRET_KEY | value = \n",
      "key = DEBUG | value = T\n",
      "key = TEST_TMP_DIR | value = tests\n",
      "key = TEST_TIMEOUT | value = 20\n"
     ]
    }
   ],
   "source": [
    "# Test function for module  \n",
    "def _test():\n",
    "    _test_global_config()\n",
    "\n",
    "if __name__ == '__main__':\n",
    "    _test()"
   ]
  }
 ],
 "metadata": {
  "kernelspec": {
   "display_name": "Python 3",
   "language": "python",
   "name": "python3"
  },
  "language_info": {
   "codemirror_mode": {
    "name": "ipython",
    "version": 3
   },
   "file_extension": ".py",
   "mimetype": "text/x-python",
   "name": "python",
   "nbconvert_exporter": "python",
   "pygments_lexer": "ipython3",
   "version": "3.6.7"
  },
  "toc": {
   "base_numbering": 1,
   "nav_menu": {},
   "number_sections": true,
   "sideBar": true,
   "skip_h1_title": false,
   "title_cell": "Table of Contents",
   "title_sidebar": "Contents",
   "toc_cell": false,
   "toc_position": {},
   "toc_section_display": true,
   "toc_window_display": true
  },
  "varInspector": {
   "cols": {
    "lenName": 16,
    "lenType": 16,
    "lenVar": 40
   },
   "kernels_config": {
    "python": {
     "delete_cmd_postfix": "",
     "delete_cmd_prefix": "del ",
     "library": "var_list.py",
     "varRefreshCmd": "print(var_dic_list())"
    },
    "r": {
     "delete_cmd_postfix": ") ",
     "delete_cmd_prefix": "rm(",
     "library": "var_list.r",
     "varRefreshCmd": "cat(var_dic_list()) "
    }
   },
   "types_to_exclude": [
    "module",
    "function",
    "builtin_function_or_method",
    "instance",
    "_Feature"
   ],
   "window_display": false
  }
 },
 "nbformat": 4,
 "nbformat_minor": 2
}
