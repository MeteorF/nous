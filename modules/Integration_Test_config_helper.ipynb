{
 "cells": [
  {
   "cell_type": "code",
   "execution_count": 1,
   "metadata": {
    "ExecuteTime": {
     "end_time": "2018-10-21T14:33:43.370538Z",
     "start_time": "2018-10-21T14:33:43.364551Z"
    }
   },
   "outputs": [],
   "source": [
    "import config_helper"
   ]
  },
  {
   "cell_type": "code",
   "execution_count": 2,
   "metadata": {
    "ExecuteTime": {
     "end_time": "2018-10-21T14:33:43.383499Z",
     "start_time": "2018-10-21T14:33:43.372530Z"
    }
   },
   "outputs": [],
   "source": [
    "# Unit Test: config_helper.global_config\n",
    "def _test_global_config():\n",
    "    print (f'===== Unit Test: config_helper/global_config =====')\n",
    "    config = {\n",
    "        \"VERSION\": \"1.0\",\n",
    "        \"ENV\": \"DEV\",\n",
    "        \"DEBUG\": True,\n",
    "        \"PROJ_PATH\": \"C:/Users/alana/AnacondaProjects/nous\",\n",
    "        \"INPUT_PATH\": \"input\",\n",
    "        \"OUTPUT_PATH\": \"output\",\n",
    "        \"LOG_PATH\": \"logs\"\n",
    "    }\n",
    "    \n",
    "    global __config__\n",
    "    global __exportConfig__\n",
    "    \n",
    "    __config__ = config_helper.global_config(config)\n",
    "    __config__.show_config()\n",
    "    print('--------')\n",
    "    __config__.exportConfig(display=True)"
   ]
  },
  {
   "cell_type": "code",
   "execution_count": 3,
   "metadata": {
    "ExecuteTime": {
     "end_time": "2018-10-21T14:33:43.398464Z",
     "start_time": "2018-10-21T14:33:43.385494Z"
    }
   },
   "outputs": [
    {
     "name": "stdout",
     "output_type": "stream",
     "text": [
      "===== Unit Test: config_helper/global_config =====\n",
      "key = VERSION | value = 1.0\n",
      "key = ENV | value = DEV\n",
      "key = DEBUG | value = True\n",
      "key = PROJ_PATH | value = C:/Users/alana/AnacondaProjects/nous\n",
      "key = INPUT_PATH | value = input\n",
      "key = OUTPUT_PATH | value = output\n",
      "key = LOG_PATH | value = logs\n",
      "--------\n",
      "key = VERSION | value = 1.0\n",
      "key = ENV | value = DEV\n",
      "key = DEBUG | value = True\n",
      "key = PROJ_PATH | value = C:/Users/alana/AnacondaProjects/nous\n",
      "key = INPUT_PATH | value = input\n",
      "key = OUTPUT_PATH | value = output\n",
      "key = LOG_PATH | value = logs\n"
     ]
    }
   ],
   "source": [
    "# Test function for module  \n",
    "def _test():\n",
    "    _test_global_config()\n",
    "\n",
    "if __name__ == '__main__':\n",
    "    _test()"
   ]
  }
 ],
 "metadata": {
  "kernelspec": {
   "display_name": "Python 3",
   "language": "python",
   "name": "python3"
  },
  "language_info": {
   "codemirror_mode": {
    "name": "ipython",
    "version": 3
   },
   "file_extension": ".py",
   "mimetype": "text/x-python",
   "name": "python",
   "nbconvert_exporter": "python",
   "pygments_lexer": "ipython3",
   "version": "3.6.6"
  },
  "toc": {
   "base_numbering": 1,
   "nav_menu": {},
   "number_sections": true,
   "sideBar": true,
   "skip_h1_title": false,
   "title_cell": "Table of Contents",
   "title_sidebar": "Contents",
   "toc_cell": false,
   "toc_position": {},
   "toc_section_display": true,
   "toc_window_display": true
  },
  "varInspector": {
   "cols": {
    "lenName": 16,
    "lenType": 16,
    "lenVar": 40
   },
   "kernels_config": {
    "python": {
     "delete_cmd_postfix": "",
     "delete_cmd_prefix": "del ",
     "library": "var_list.py",
     "varRefreshCmd": "print(var_dic_list())"
    },
    "r": {
     "delete_cmd_postfix": ") ",
     "delete_cmd_prefix": "rm(",
     "library": "var_list.r",
     "varRefreshCmd": "cat(var_dic_list()) "
    }
   },
   "types_to_exclude": [
    "module",
    "function",
    "builtin_function_or_method",
    "instance",
    "_Feature"
   ],
   "window_display": false
  }
 },
 "nbformat": 4,
 "nbformat_minor": 2
}
