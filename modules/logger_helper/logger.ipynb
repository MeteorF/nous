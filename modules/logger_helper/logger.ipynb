{
 "cells": [
  {
   "cell_type": "code",
   "execution_count": 1,
   "metadata": {
    "ExecuteTime": {
     "end_time": "2018-10-09T14:00:48.919888Z",
     "start_time": "2018-10-09T14:00:48.909915Z"
    }
   },
   "outputs": [],
   "source": [
    "# ../utilities/logger\n",
    "# Last modify: 20181007"
   ]
  },
  {
   "cell_type": "code",
   "execution_count": 2,
   "metadata": {
    "ExecuteTime": {
     "end_time": "2018-10-09T14:00:48.953794Z",
     "start_time": "2018-10-09T14:00:48.940831Z"
    }
   },
   "outputs": [],
   "source": [
    "import logging\n",
    "import os\n",
    "import __init__\n",
    "import path_ops\n",
    "import pathlib"
   ]
  },
  {
   "cell_type": "code",
   "execution_count": 3,
   "metadata": {
    "ExecuteTime": {
     "end_time": "2018-10-09T14:00:48.967758Z",
     "start_time": "2018-10-09T14:00:48.957785Z"
    }
   },
   "outputs": [],
   "source": [
    "def init(logpath = None):\n",
    "    print('===== logger/init =====')\n",
    "    #------------\n",
    "    # Log Level:\n",
    "    #   debug (lowest)\n",
    "    #   info\n",
    "    #   warning\n",
    "    #   error\n",
    "    #   critical (highest)\n",
    "    #-----------\n",
    "    \n",
    "    #logpath = 'C:\\\\Users\\\\alana\\\\AnacondaProjects\\\\nous\\\\logs'\n",
    "    logfileName = path_ops.getOutputFileName(path = logpath, extension='.log', custom_name='log')\n",
    "    \n",
    "    global logging\n",
    "    logging = logging\n",
    "    \n",
    "    logging.basicConfig(\n",
    "        # filename = logfileName, \\\n",
    "        handlers=[logging.FileHandler(logfileName, 'a', 'utf-8')], \\\n",
    "        # Will ignore levels lower than setting (e.g. set=info will ignore debug)\n",
    "        level = logging.DEBUG, \\\n",
    "        format = '%(asctime)s | %(levelname)s | %(message)s', \\\n",
    "        datefmt = '%Y-%m-%d %H:%M:%S'\n",
    "    )"
   ]
  },
  {
   "cell_type": "code",
   "execution_count": 4,
   "metadata": {
    "ExecuteTime": {
     "end_time": "2018-10-09T14:00:48.980724Z",
     "start_time": "2018-10-09T14:00:48.969752Z"
    }
   },
   "outputs": [],
   "source": [
    "def start():\n",
    "    logging.info('Start of program'.center(30, '-'))"
   ]
  },
  {
   "cell_type": "code",
   "execution_count": 5,
   "metadata": {
    "ExecuteTime": {
     "end_time": "2018-10-09T14:00:48.994686Z",
     "start_time": "2018-10-09T14:00:48.982718Z"
    }
   },
   "outputs": [],
   "source": [
    "def shutdown():\n",
    "    logging.info('End of program'.center(30, '-'))\n",
    "    logging.shutdown()"
   ]
  },
  {
   "cell_type": "code",
   "execution_count": 6,
   "metadata": {
    "ExecuteTime": {
     "end_time": "2018-10-09T14:00:49.023608Z",
     "start_time": "2018-10-09T14:00:48.996681Z"
    },
    "scrolled": true
   },
   "outputs": [
    {
     "name": "stdout",
     "output_type": "stream",
     "text": [
      "===== config/init =====\n",
      "===== config/parse_config =====\n",
      "===== util_dir_check/util_path_ops =====\n",
      "current_dir = C:\\Users\\alana\\AnacondaProjects\\nous\\modules\n",
      "dir_to_check = C:\\Users\\alana\\AnacondaProjects\\nous\\settings\\config.json | exist = True | is_dir = False | is_file = True\n",
      "C:\\Users\\alana\\AnacondaProjects\\nous\\settings\\config.json | exist, no action required.\n",
      "===== config/str_to_bool =====\n",
      "===== config/get_config_val =====\n",
      "Attempt to get: config_key = INPUT_DIR | ENV_specific=DEFAULT\n",
      "val=../input | type=<class 'str'> \n",
      "\n",
      "===== util_dir_check/util_path_ops =====\n",
      "current_dir = C:\\Users\\alana\\AnacondaProjects\\nous\\modules\n",
      "dir_to_check = C:\\Users\\alana\\AnacondaProjects\\nous\\input | exist = True | is_dir = True | is_file = False\n",
      "C:\\Users\\alana\\AnacondaProjects\\nous\\input | exist, no action required.\n",
      "===== config/get_config_val =====\n",
      "Attempt to get: config_key = OUTPUT_DIR | ENV_specific=DEFAULT\n",
      "val=../output | type=<class 'str'> \n",
      "\n",
      "===== util_dir_check/util_path_ops =====\n",
      "current_dir = C:\\Users\\alana\\AnacondaProjects\\nous\\modules\n",
      "dir_to_check = C:\\Users\\alana\\AnacondaProjects\\nous\\output | exist = True | is_dir = True | is_file = False\n",
      "C:\\Users\\alana\\AnacondaProjects\\nous\\output | exist, no action required.\n",
      "===== config/get_config_val =====\n",
      "Attempt to get: config_key = LOG_DIR | ENV_specific=DEFAULT\n",
      "val=../logs | type=<class 'str'> \n",
      "\n",
      "===== util_dir_check/util_path_ops =====\n",
      "current_dir = C:\\Users\\alana\\AnacondaProjects\\nous\\modules\n",
      "dir_to_check = C:\\Users\\alana\\AnacondaProjects\\nous\\logs | exist = True | is_dir = True | is_file = False\n",
      "C:\\Users\\alana\\AnacondaProjects\\nous\\logs | exist, no action required.\n",
      "===== logger/init =====\n",
      "===== util_dir_check/util_path_ops =====\n",
      "current_dir = C:\\Users\\alana\\AnacondaProjects\\nous\\modules\n",
      "dir_to_check = C:\\Users\\alana\\AnacondaProjects\\nous\\logs | exist = True | is_dir = True | is_file = False\n",
      "C:\\Users\\alana\\AnacondaProjects\\nous\\logs | exist, no action required.\n",
      "path = C:\\Users\\alana\\AnacondaProjects\\nous\\logs\\log_20181009_220049012638.log\n"
     ]
    }
   ],
   "source": [
    "if __name__ == '__main__':\n",
    "    __init__.init()\n",
    "    __config__ = __init__.config.__config__\n",
    "    init(logpath=__config__.LOG_PATH)\n",
    "    start()\n",
    "    logging.debug('Try logging..')\n",
    "    shutdown()"
   ]
  }
 ],
 "metadata": {
  "kernelspec": {
   "display_name": "Python 3",
   "language": "python",
   "name": "python3"
  },
  "language_info": {
   "codemirror_mode": {
    "name": "ipython",
    "version": 3
   },
   "file_extension": ".py",
   "mimetype": "text/x-python",
   "name": "python",
   "nbconvert_exporter": "python",
   "pygments_lexer": "ipython3",
   "version": "3.6.6"
  },
  "toc": {
   "base_numbering": 1,
   "nav_menu": {},
   "number_sections": true,
   "sideBar": true,
   "skip_h1_title": false,
   "title_cell": "Table of Contents",
   "title_sidebar": "Contents",
   "toc_cell": false,
   "toc_position": {},
   "toc_section_display": true,
   "toc_window_display": true
  },
  "varInspector": {
   "cols": {
    "lenName": 16,
    "lenType": 16,
    "lenVar": 40
   },
   "kernels_config": {
    "python": {
     "delete_cmd_postfix": "",
     "delete_cmd_prefix": "del ",
     "library": "var_list.py",
     "varRefreshCmd": "print(var_dic_list())"
    },
    "r": {
     "delete_cmd_postfix": ") ",
     "delete_cmd_prefix": "rm(",
     "library": "var_list.r",
     "varRefreshCmd": "cat(var_dic_list()) "
    }
   },
   "types_to_exclude": [
    "module",
    "function",
    "builtin_function_or_method",
    "instance",
    "_Feature"
   ],
   "window_display": false
  }
 },
 "nbformat": 4,
 "nbformat_minor": 2
}
