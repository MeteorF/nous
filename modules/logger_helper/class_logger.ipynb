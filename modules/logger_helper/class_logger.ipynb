{
 "cells": [
  {
   "cell_type": "code",
   "execution_count": 1,
   "metadata": {
    "ExecuteTime": {
     "end_time": "2018-11-05T12:28:41.807988Z",
     "start_time": "2018-11-05T12:28:41.803999Z"
    }
   },
   "outputs": [],
   "source": [
    "# logger_helper/class_logger\n",
    "# Last modify: 20181104"
   ]
  },
  {
   "cell_type": "code",
   "execution_count": 2,
   "metadata": {
    "ExecuteTime": {
     "end_time": "2018-11-05T12:28:41.834947Z",
     "start_time": "2018-11-05T12:28:41.809982Z"
    }
   },
   "outputs": [],
   "source": [
    "# from ../../modules\n",
    "\n",
    "# from ext lib\n",
    "import logging"
   ]
  },
  {
   "cell_type": "code",
   "execution_count": 3,
   "metadata": {
    "ExecuteTime": {
     "end_time": "2018-11-05T12:28:41.853865Z",
     "start_time": "2018-11-05T12:28:41.836910Z"
    }
   },
   "outputs": [],
   "source": [
    "class logger():\n",
    "    #------------\n",
    "    # Log Level:\n",
    "    #   debug (lowest)\n",
    "    #   info\n",
    "    #   warning\n",
    "    #   error\n",
    "    #   critical (highest)\n",
    "    #-----------\n",
    "    \n",
    "    def __init__(self, args):\n",
    "        self.logfileName = args.get(\"logFileName\")\n",
    "        #logfileName = logFilePath\n",
    "        \n",
    "        global logging\n",
    "        logging = logging\n",
    "        \n",
    "        logging.basicConfig(\n",
    "            # filename = logfileName, \\\n",
    "            handlers = [logging.FileHandler(self.logfileName, 'a', 'utf-8')], \\\n",
    "            \n",
    "            # Will ignore levels lower than setting (e.g. set=info will ignore debug)\n",
    "            level = logging.DEBUG, \\\n",
    "            format = '%(asctime)s | %(levelname)s | %(processName)s | %(module)s | %(funcName)s | %(lineno)s | %(message)s'\n",
    "            \n",
    "            # Example: 2018-11-05 19:53:36,275 | INFO | class_logger.py | start | 59 | -------Start of program-------\n",
    "            # To parse timestamp in pandas:\n",
    "            #        pd.to_datetime('2018-11-05 00:12:33,585', format=\"%Y-%m-%d %H:%M:%S,%f\")\n",
    "            # return: Timestamp('2018-11-05 00:12:33.586000')\n",
    "            \n",
    "            #datefmt = '%Y-%m-%d %H:%M:%S'\n",
    "            # Example: 2018-11-05 19:53:36 | INFO | class_logger.py | start | 59 | -------Start of program-------\n",
    "        )\n",
    "        self.start()\n",
    "    \n",
    "    def getCaller(self):\n",
    "        caller = str(logging.getLogger(__name__))\n",
    "        return caller\n",
    "    \n",
    "    def start(self):\n",
    "        logging.info(self.getCaller() + ' | ' + 'Start of program'.center(30, '-'))\n",
    "        \n",
    "    def log_debug(self, msg=''):\n",
    "        logging.debug(self.getCaller() + ' | ' + msg)\n",
    "        \n",
    "    def log_info(self, msg=''):\n",
    "        logging.info(self.getCaller() + ' | ' + msg)\n",
    "        \n",
    "    def log_warning(self, msg=''):\n",
    "        logging.warning(self.getCaller() + ' | ' + msg)\n",
    "        \n",
    "    def log_error(self, msg=''):\n",
    "        logging.error(self.getCaller() + ' | ' + msg)\n",
    "        \n",
    "    def log_critical(self, msg=''):\n",
    "        logging.critical(self.getCaller() + ' | ' + msg)\n",
    "    \n",
    "    def shutdown(self):\n",
    "        logging.info(self.getCaller() + ' | ' + 'End of program'.center(30, '-'))\n",
    "        logging.shutdown()\n",
    "        \n",
    "    def printLogString(self):\n",
    "        print (f'logFileName = {self.logfileName}')\n",
    "        with open(self.logfileName, 'r') as f:\n",
    "            print(f.read())"
   ]
  },
  {
   "cell_type": "code",
   "execution_count": 4,
   "metadata": {
    "ExecuteTime": {
     "end_time": "2018-11-05T12:28:41.900739Z",
     "start_time": "2018-11-05T12:28:41.855859Z"
    },
    "scrolled": true
   },
   "outputs": [
    {
     "name": "stdout",
     "output_type": "stream",
     "text": [
      "__name__ = path_helper.getOutputFileName\n",
      "__name__ = path_helper.chdir\n",
      "===== path_helper/dir_check =====\n",
      "current_dir = C:\\Users\\alana\\AnacondaProjects\\nous\\modules\\logger_helper\n",
      "dir_to_check = C:\\Users\\alana\\AnacondaProjects\\nous\\settings\\config.json | exist = True | is_dir = False | is_file = True\n",
      "C:\\Users\\alana\\AnacondaProjects\\nous\\settings\\config.json | exist, no action required.\n",
      "===== path_helper/dir_check =====\n",
      "current_dir = C:\\Users\\alana\\AnacondaProjects\\nous\\modules\\logger_helper\n",
      "dir_to_check = C:\\Users\\alana\\AnacondaProjects\\nous\\settings\\config.json | exist = True | is_dir = False | is_file = True\n",
      "C:\\Users\\alana\\AnacondaProjects\\nous\\settings\\config.json | exist, no action required.\n",
      "===== path_ops/chdir =====\n",
      "===== path_helper/dir_check =====\n",
      "current_dir = C:\\Users\\alana\\AnacondaProjects\\nous\\modules\\logger_helper\n",
      "dir_to_check = C:\\Users\\alana\\AnacondaProjects\\nous | exist = True | is_dir = True | is_file = False\n",
      "C:\\Users\\alana\\AnacondaProjects\\nous | exist, no action required.\n",
      "target_dir = C:\\Users\\alana\\AnacondaProjects\\nous\n",
      "cwd = C:\\Users\\alana\\AnacondaProjects\\nous\n",
      "===== path_ops/getOutputFileName =====\n",
      "===== path_helper/dir_check =====\n",
      "current_dir = C:\\Users\\alana\\AnacondaProjects\\nous\n",
      "dir_to_check = C:\\Users\\alana\\AnacondaProjects\\nous\\logs | exist = True | is_dir = True | is_file = False\n",
      "C:\\Users\\alana\\AnacondaProjects\\nous\\logs | exist, no action required.\n",
      "path = C:\\Users\\alana\\AnacondaProjects\\nous\\logs\\log_20181105_202841885780.log\n",
      "\n",
      "\n",
      "logFileName = C:\\Users\\alana\\AnacondaProjects\\nous\\logs\\log_20181105_202841885780.log\n",
      "2018-11-05 20:28:41,886 | INFO | MainProcess | <ipython-input-3-74518c0d0dc6> | start | 41 | <Logger __main__ (DEBUG)> | -------Start of program-------\n",
      "2018-11-05 20:28:41,886 | DEBUG | MainProcess | <ipython-input-3-74518c0d0dc6> | log_debug | 44 | <Logger __main__ (DEBUG)> | -----debug-----\n",
      "2018-11-05 20:28:41,886 | INFO | MainProcess | <ipython-input-3-74518c0d0dc6> | log_info | 47 | <Logger __main__ (DEBUG)> | -----info-----\n",
      "2018-11-05 20:28:41,887 | WARNING | MainProcess | <ipython-input-3-74518c0d0dc6> | log_warning | 50 | <Logger __main__ (DEBUG)> | -----warning-----\n",
      "2018-11-05 20:28:41,887 | ERROR | MainProcess | <ipython-input-3-74518c0d0dc6> | log_error | 53 | <Logger __main__ (DEBUG)> | -----error-----\n",
      "2018-11-05 20:28:41,887 | CRITICAL | MainProcess | <ipython-input-3-74518c0d0dc6> | log_critical | 56 | <Logger __main__ (DEBUG)> | -----critical-----\n",
      "2018-11-05 20:28:41,887 | INFO | MainProcess | <ipython-input-3-74518c0d0dc6> | shutdown | 59 | <Logger __main__ (DEBUG)> | --------End of program--------\n",
      "\n"
     ]
    }
   ],
   "source": [
    "# Test function for module  \n",
    "def _test():\n",
    "    # test loadconfig & change cwd\n",
    "    \n",
    "    import sys\n",
    "    sys.path.append('../../modules')\n",
    "    \n",
    "    import json\n",
    "    import path_helper\n",
    "    import config_helper\n",
    "    \n",
    "    global __config__\n",
    "    config_file = 'C:/Users/alana/AnacondaProjects/nous/settings/config.json'\n",
    "    \n",
    "    if path_helper.dir_check(dir_check=config_file) == True:\n",
    "        config_file_path = path_helper.dir_check(config_file, dir_create=False, return_type='Path')\n",
    "    \n",
    "        with open(config_file_path) as f:\n",
    "            # Read json as dictionary\n",
    "            __config_string__ = json.load(f)\n",
    "\n",
    "            __config__ = config_helper.global_config(__config_string__)\n",
    "            \n",
    "            path_helper.chdir(__config__.PROJ_DIR)\n",
    "    \n",
    "    # init logger and test log msg\n",
    "    \n",
    "    global logger_1\n",
    "    logFileName = path_helper.getOutputFileName(path=__config__.LOG_DIR, custom_name='log', extension='.log')\n",
    "    config_log = {\n",
    "        \"logFileName\" : logFileName\n",
    "    }\n",
    "    \n",
    "    logger_1 = logger(config_log)\n",
    "    \n",
    "    logger_1.log_debug('-----debug-----')\n",
    "    logger_1.log_info('-----info-----')\n",
    "    logger_1.log_warning('-----warning-----')\n",
    "    logger_1.log_error('-----error-----')\n",
    "    logger_1.log_critical('-----critical-----')\n",
    "    \n",
    "    logger_1.shutdown()\n",
    "    \n",
    "    \n",
    "    #print (f'logFileName = {logFileName}')\n",
    "    #with open(logFileName, 'r') as f:\n",
    "    #    print(f.read())\n",
    "    \n",
    "    logger_1.printLogString()\n",
    "    \n",
    "if __name__ == '__main__':\n",
    "    _test()"
   ]
  }
 ],
 "metadata": {
  "kernelspec": {
   "display_name": "Python 3",
   "language": "python",
   "name": "python3"
  },
  "language_info": {
   "codemirror_mode": {
    "name": "ipython",
    "version": 3
   },
   "file_extension": ".py",
   "mimetype": "text/x-python",
   "name": "python",
   "nbconvert_exporter": "python",
   "pygments_lexer": "ipython3",
   "version": "3.6.7"
  },
  "toc": {
   "base_numbering": 1,
   "nav_menu": {},
   "number_sections": true,
   "sideBar": true,
   "skip_h1_title": false,
   "title_cell": "Table of Contents",
   "title_sidebar": "Contents",
   "toc_cell": false,
   "toc_position": {
    "height": "calc(100% - 180px)",
    "left": "10px",
    "top": "150px",
    "width": "165px"
   },
   "toc_section_display": true,
   "toc_window_display": true
  },
  "varInspector": {
   "cols": {
    "lenName": 16,
    "lenType": 16,
    "lenVar": 40
   },
   "kernels_config": {
    "python": {
     "delete_cmd_postfix": "",
     "delete_cmd_prefix": "del ",
     "library": "var_list.py",
     "varRefreshCmd": "print(var_dic_list())"
    },
    "r": {
     "delete_cmd_postfix": ") ",
     "delete_cmd_prefix": "rm(",
     "library": "var_list.r",
     "varRefreshCmd": "cat(var_dic_list()) "
    }
   },
   "types_to_exclude": [
    "module",
    "function",
    "builtin_function_or_method",
    "instance",
    "_Feature"
   ],
   "window_display": false
  }
 },
 "nbformat": 4,
 "nbformat_minor": 2
}
