{
 "cells": [
  {
   "cell_type": "markdown",
   "metadata": {
    "toc": true
   },
   "source": [
    "<h1>Table of Contents<span class=\"tocSkip\"></span></h1>\n",
    "<div class=\"toc\"><ul class=\"toc-item\"></ul></div>"
   ]
  },
  {
   "cell_type": "code",
   "execution_count": 1,
   "metadata": {
    "ExecuteTime": {
     "end_time": "2018-11-09T13:27:42.974834Z",
     "start_time": "2018-11-09T13:27:42.970845Z"
    }
   },
   "outputs": [],
   "source": [
    "# class_abs_hand_free\n",
    "\n",
    "#Ref:\n",
    "#https://pyautogui.readthedocs.io/en/latest/cheatsheet.html\n",
    "#https://automatetheboringstuff.com/chapter18/\n",
    "#https://pyautogui.readthedocs.io/en/latest/keyboard.html#keyboard-keys\n",
    "\n",
    "# FailSafe: Move the mouse to Top Left Corner (0,0)\n",
    "# Show realtiem mouse position & RGB: \n",
    "#   CMD\n",
    "#   Python\n",
    "#   import pyautogui\n",
    "#   pyautogui.displayMousePosition()"
   ]
  },
  {
   "cell_type": "code",
   "execution_count": 1,
   "metadata": {
    "ExecuteTime": {
     "end_time": "2018-11-10T12:19:39.426936Z",
     "start_time": "2018-11-10T12:19:37.296531Z"
    }
   },
   "outputs": [],
   "source": [
    "import pyautogui as ptg\n",
    "# pip install pyautogui\n",
    "\n",
    "import pandas as pd"
   ]
  },
  {
   "cell_type": "code",
   "execution_count": 3,
   "metadata": {
    "ExecuteTime": {
     "end_time": "2018-11-09T13:27:43.449562Z",
     "start_time": "2018-11-09T13:27:43.409669Z"
    }
   },
   "outputs": [],
   "source": [
    "df = pd.read_excel('../../settings/abs_hf_process.xlsx', skiprows=10)"
   ]
  },
  {
   "cell_type": "code",
   "execution_count": 4,
   "metadata": {
    "ExecuteTime": {
     "end_time": "2018-11-09T13:27:43.485466Z",
     "start_time": "2018-11-09T13:27:43.452555Z"
    },
    "scrolled": false
   },
   "outputs": [
    {
     "data": {
      "text/html": [
       "<div>\n",
       "<style scoped>\n",
       "    .dataframe tbody tr th:only-of-type {\n",
       "        vertical-align: middle;\n",
       "    }\n",
       "\n",
       "    .dataframe tbody tr th {\n",
       "        vertical-align: top;\n",
       "    }\n",
       "\n",
       "    .dataframe thead th {\n",
       "        text-align: right;\n",
       "    }\n",
       "</style>\n",
       "<table border=\"1\" class=\"dataframe\">\n",
       "  <thead>\n",
       "    <tr style=\"text-align: right;\">\n",
       "      <th></th>\n",
       "      <th>Process</th>\n",
       "      <th>Step</th>\n",
       "      <th>Description</th>\n",
       "      <th>Input</th>\n",
       "      <th>Parameter</th>\n",
       "      <th>BeforeProcess</th>\n",
       "      <th>BeforeStep</th>\n",
       "      <th>BeforeParameter</th>\n",
       "      <th>CallProcess</th>\n",
       "      <th>CallStep</th>\n",
       "      <th>CallParameter</th>\n",
       "      <th>AfterProcess</th>\n",
       "      <th>AfterStep</th>\n",
       "      <th>AfterParameter</th>\n",
       "    </tr>\n",
       "  </thead>\n",
       "  <tbody>\n",
       "    <tr>\n",
       "      <th>0</th>\n",
       "      <td>Key_hotkey</td>\n",
       "      <td>1</td>\n",
       "      <td>Press hotkey</td>\n",
       "      <td>NaN</td>\n",
       "      <td>NaN</td>\n",
       "      <td>NaN</td>\n",
       "      <td>NaN</td>\n",
       "      <td>NaN</td>\n",
       "      <td>NaN</td>\n",
       "      <td>NaN</td>\n",
       "      <td>NaN</td>\n",
       "      <td>NaN</td>\n",
       "      <td>NaN</td>\n",
       "      <td>NaN</td>\n",
       "    </tr>\n",
       "    <tr>\n",
       "      <th>1</th>\n",
       "      <td>Key_press</td>\n",
       "      <td>1</td>\n",
       "      <td>Press single key</td>\n",
       "      <td>NaN</td>\n",
       "      <td>NaN</td>\n",
       "      <td>NaN</td>\n",
       "      <td>NaN</td>\n",
       "      <td>NaN</td>\n",
       "      <td>NaN</td>\n",
       "      <td>NaN</td>\n",
       "      <td>NaN</td>\n",
       "      <td>NaN</td>\n",
       "      <td>NaN</td>\n",
       "      <td>NaN</td>\n",
       "    </tr>\n",
       "    <tr>\n",
       "      <th>2</th>\n",
       "      <td>Key_typewriter</td>\n",
       "      <td>1</td>\n",
       "      <td>Type words</td>\n",
       "      <td>NaN</td>\n",
       "      <td>NaN</td>\n",
       "      <td>NaN</td>\n",
       "      <td>NaN</td>\n",
       "      <td>NaN</td>\n",
       "      <td>NaN</td>\n",
       "      <td>NaN</td>\n",
       "      <td>NaN</td>\n",
       "      <td>NaN</td>\n",
       "      <td>NaN</td>\n",
       "      <td>NaN</td>\n",
       "    </tr>\n",
       "    <tr>\n",
       "      <th>3</th>\n",
       "      <td>RunVNCViewer</td>\n",
       "      <td>1</td>\n",
       "      <td>Prompt Run Window</td>\n",
       "      <td>NaN</td>\n",
       "      <td>NaN</td>\n",
       "      <td>NaN</td>\n",
       "      <td>NaN</td>\n",
       "      <td>NaN</td>\n",
       "      <td>Key_hotkey</td>\n",
       "      <td>1.0</td>\n",
       "      <td>win+R</td>\n",
       "      <td>NaN</td>\n",
       "      <td>NaN</td>\n",
       "      <td>NaN</td>\n",
       "    </tr>\n",
       "    <tr>\n",
       "      <th>4</th>\n",
       "      <td>RunVNCViewer</td>\n",
       "      <td>2</td>\n",
       "      <td>Input cmd</td>\n",
       "      <td>NaN</td>\n",
       "      <td>NaN</td>\n",
       "      <td>NaN</td>\n",
       "      <td>NaN</td>\n",
       "      <td>NaN</td>\n",
       "      <td>Key_typewriter</td>\n",
       "      <td>1.0</td>\n",
       "      <td>cmd</td>\n",
       "      <td>Key_press</td>\n",
       "      <td>1.0</td>\n",
       "      <td>ENTER</td>\n",
       "    </tr>\n",
       "    <tr>\n",
       "      <th>5</th>\n",
       "      <td>RunVNCViewer</td>\n",
       "      <td>3</td>\n",
       "      <td>Change directory to RealVNC &amp; Run VNCViewer</td>\n",
       "      <td>NaN</td>\n",
       "      <td>NaN</td>\n",
       "      <td>NaN</td>\n",
       "      <td>NaN</td>\n",
       "      <td>NaN</td>\n",
       "      <td>Key_typewriter</td>\n",
       "      <td>1.0</td>\n",
       "      <td>cd C:\\Program Files\\RealVNC\\VNC Viewer &amp;&amp; vncv...</td>\n",
       "      <td>NaN</td>\n",
       "      <td>NaN</td>\n",
       "      <td>NaN</td>\n",
       "    </tr>\n",
       "  </tbody>\n",
       "</table>\n",
       "</div>"
      ],
      "text/plain": [
       "          Process  Step                                  Description  Input  \\\n",
       "0      Key_hotkey     1                                 Press hotkey    NaN   \n",
       "1       Key_press     1                             Press single key    NaN   \n",
       "2  Key_typewriter     1                                   Type words    NaN   \n",
       "3    RunVNCViewer     1                            Prompt Run Window    NaN   \n",
       "4    RunVNCViewer     2                                    Input cmd    NaN   \n",
       "5    RunVNCViewer     3  Change directory to RealVNC & Run VNCViewer    NaN   \n",
       "\n",
       "   Parameter  BeforeProcess  BeforeStep  BeforeParameter     CallProcess  \\\n",
       "0        NaN            NaN         NaN              NaN             NaN   \n",
       "1        NaN            NaN         NaN              NaN             NaN   \n",
       "2        NaN            NaN         NaN              NaN             NaN   \n",
       "3        NaN            NaN         NaN              NaN      Key_hotkey   \n",
       "4        NaN            NaN         NaN              NaN  Key_typewriter   \n",
       "5        NaN            NaN         NaN              NaN  Key_typewriter   \n",
       "\n",
       "   CallStep                                      CallParameter AfterProcess  \\\n",
       "0       NaN                                                NaN          NaN   \n",
       "1       NaN                                                NaN          NaN   \n",
       "2       NaN                                                NaN          NaN   \n",
       "3       1.0                                              win+R          NaN   \n",
       "4       1.0                                                cmd    Key_press   \n",
       "5       1.0  cd C:\\Program Files\\RealVNC\\VNC Viewer && vncv...          NaN   \n",
       "\n",
       "   AfterStep AfterParameter  \n",
       "0        NaN            NaN  \n",
       "1        NaN            NaN  \n",
       "2        NaN            NaN  \n",
       "3        NaN            NaN  \n",
       "4        1.0          ENTER  \n",
       "5        NaN            NaN  "
      ]
     },
     "execution_count": 4,
     "metadata": {},
     "output_type": "execute_result"
    }
   ],
   "source": [
    "df"
   ]
  },
  {
   "cell_type": "code",
   "execution_count": 5,
   "metadata": {
    "ExecuteTime": {
     "end_time": "2018-11-09T13:27:43.494442Z",
     "start_time": "2018-11-09T13:27:43.488459Z"
    },
    "scrolled": true
   },
   "outputs": [
    {
     "data": {
      "text/plain": [
       "'cd C:\\\\Program Files\\\\RealVNC\\\\VNC Viewer && vncviewer.exe && exit'"
      ]
     },
     "execution_count": 5,
     "metadata": {},
     "output_type": "execute_result"
    }
   ],
   "source": [
    "df.CallParameter[5]"
   ]
  },
  {
   "cell_type": "code",
   "execution_count": 6,
   "metadata": {
    "ExecuteTime": {
     "end_time": "2018-11-09T13:27:43.505413Z",
     "start_time": "2018-11-09T13:27:43.496437Z"
    }
   },
   "outputs": [],
   "source": [
    "# class abs_hand_free:\n",
    "    \n",
    "#     def __init__:"
   ]
  },
  {
   "cell_type": "code",
   "execution_count": 7,
   "metadata": {
    "ExecuteTime": {
     "end_time": "2018-11-09T13:27:43.620106Z",
     "start_time": "2018-11-09T13:27:43.507408Z"
    }
   },
   "outputs": [],
   "source": [
    "ptg.hotkey('win', 'r')"
   ]
  },
  {
   "cell_type": "code",
   "execution_count": 8,
   "metadata": {
    "ExecuteTime": {
     "end_time": "2018-11-09T13:27:43.732804Z",
     "start_time": "2018-11-09T13:27:43.621103Z"
    }
   },
   "outputs": [],
   "source": [
    "ptg.typewrite('cmd')\n",
    "ptg.PAUSE = 0.5"
   ]
  },
  {
   "cell_type": "code",
   "execution_count": 9,
   "metadata": {
    "ExecuteTime": {
     "end_time": "2018-11-09T13:27:44.270805Z",
     "start_time": "2018-11-09T13:27:43.734799Z"
    }
   },
   "outputs": [],
   "source": [
    "ptg.press('enter')"
   ]
  },
  {
   "cell_type": "code",
   "execution_count": 10,
   "metadata": {
    "ExecuteTime": {
     "end_time": "2018-11-09T13:27:45.299130Z",
     "start_time": "2018-11-09T13:27:44.270805Z"
    }
   },
   "outputs": [],
   "source": [
    "ptg.typewrite(df.CallParameter[5])\n",
    "ptg.press('enter')"
   ]
  },
  {
   "cell_type": "code",
   "execution_count": 3,
   "metadata": {
    "ExecuteTime": {
     "end_time": "2018-11-10T12:21:52.320534Z",
     "start_time": "2018-11-10T12:21:52.233764Z"
    }
   },
   "outputs": [
    {
     "data": {
      "image/png": "[encoded data removed]",
      "text/plain": [
       "<PIL.Image.Image image mode=RGB size=300x400 at 0x2174875ABE0>"
      ]
     },
     "execution_count": 3,
     "metadata": {},
     "output_type": "execute_result"
    }
   ],
   "source": [
    "ptg.screenshot('abc.png', region=(0,0, 300, 400))"
   ]
  },
  {
   "cell_type": "code",
   "execution_count": 12,
   "metadata": {
    "ExecuteTime": {
     "end_time": "2018-11-09T13:27:48.286467Z",
     "start_time": "2018-11-09T13:27:45.788380Z"
    }
   },
   "outputs": [
    {
     "data": {
      "text/plain": [
       "'OK'"
      ]
     },
     "execution_count": 12,
     "metadata": {},
     "output_type": "execute_result"
    }
   ],
   "source": [
    "ptg.alert('Process completed.')"
   ]
  }
 ],
 "metadata": {
  "kernelspec": {
   "display_name": "Python 3",
   "language": "python",
   "name": "python3"
  },
  "language_info": {
   "codemirror_mode": {
    "name": "ipython",
    "version": 3
   },
   "file_extension": ".py",
   "mimetype": "text/x-python",
   "name": "python",
   "nbconvert_exporter": "python",
   "pygments_lexer": "ipython3",
   "version": "3.6.7"
  },
  "toc": {
   "base_numbering": 1,
   "nav_menu": {},
   "number_sections": true,
   "sideBar": true,
   "skip_h1_title": false,
   "title_cell": "Table of Contents",
   "title_sidebar": "Contents",
   "toc_cell": true,
   "toc_position": {
    "height": "calc(100% - 180px)",
    "left": "10px",
    "top": "150px",
    "width": "165px"
   },
   "toc_section_display": true,
   "toc_window_display": true
  },
  "varInspector": {
   "cols": {
    "lenName": 16,
    "lenType": 16,
    "lenVar": 40
   },
   "kernels_config": {
    "python": {
     "delete_cmd_postfix": "",
     "delete_cmd_prefix": "del ",
     "library": "var_list.py",
     "varRefreshCmd": "print(var_dic_list())"
    },
    "r": {
     "delete_cmd_postfix": ") ",
     "delete_cmd_prefix": "rm(",
     "library": "var_list.r",
     "varRefreshCmd": "cat(var_dic_list()) "
    }
   },
   "types_to_exclude": [
    "module",
    "function",
    "builtin_function_or_method",
    "instance",
    "_Feature"
   ],
   "window_display": false
  }
 },
 "nbformat": 4,
 "nbformat_minor": 2
}
