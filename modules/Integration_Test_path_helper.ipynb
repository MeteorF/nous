{
 "cells": [
  {
   "cell_type": "code",
   "execution_count": 1,
   "metadata": {
    "ExecuteTime": {
     "end_time": "2018-10-13T16:03:06.409655Z",
     "start_time": "2018-10-13T16:03:06.399682Z"
    }
   },
   "outputs": [
    {
     "name": "stdout",
     "output_type": "stream",
     "text": [
      "__name__ = path_helper.getOutputFileName\n",
      "__name__ = path_helper.chdir\n"
     ]
    }
   ],
   "source": [
    "import path_helper"
   ]
  },
  {
   "cell_type": "code",
   "execution_count": 2,
   "metadata": {
    "ExecuteTime": {
     "end_time": "2018-10-13T16:03:06.433591Z",
     "start_time": "2018-10-13T16:03:06.411650Z"
    }
   },
   "outputs": [],
   "source": [
    "# Unit Test: path_helper.dir_check\n",
    "def _test_dir_check():\n",
    "    print (f'===== Unit Test: path_ops/dir_check =====')\n",
    "    path_helper.dir_check(dir_check='efg', dir_create=False, return_type='Exist')"
   ]
  },
  {
   "cell_type": "code",
   "execution_count": 3,
   "metadata": {
    "ExecuteTime": {
     "end_time": "2018-10-13T16:03:06.446587Z",
     "start_time": "2018-10-13T16:03:06.435586Z"
    }
   },
   "outputs": [],
   "source": [
    "# Unit Test: path_helper.getOutputFileName\n",
    "def _test_getOutputFileName():\n",
    "    print (f'===== Unit Test: path_ops/getOutputFileName =====')\n",
    "    path_helper.getOutputFileName(path='.')"
   ]
  },
  {
   "cell_type": "code",
   "execution_count": 4,
   "metadata": {
    "ExecuteTime": {
     "end_time": "2018-10-13T16:03:06.464509Z",
     "start_time": "2018-10-13T16:03:06.448551Z"
    }
   },
   "outputs": [],
   "source": [
    "# Unit Test: path_helper.chdir\n",
    "def _test_chdir():\n",
    "    print (f'===== Unit Test: path_ops/chdir =====')\n",
    "    import pathlib\n",
    "\n",
    "    print (f'cwd_as_is = {pathlib.Path.cwd()}')\n",
    "    path_helper.chdir('C:/Users/alana/AnacondaProjects/nous')\n",
    "    print (f'cwd_to_be = {pathlib.Path.cwd()}')"
   ]
  },
  {
   "cell_type": "code",
   "execution_count": 5,
   "metadata": {
    "ExecuteTime": {
     "end_time": "2018-10-13T16:03:06.478471Z",
     "start_time": "2018-10-13T16:03:06.467500Z"
    }
   },
   "outputs": [],
   "source": [
    "# Unit Test: path_helper.display_dir_tree\n",
    "def _test_display_dir_tree():\n",
    "    print (f'===== Unit Test: path_ops/display_dir_tree =====')\n",
    "    path_helper.display_dir_tree('C:/Users/alana/AnacondaProjects/nous/modules/path_helper/')"
   ]
  },
  {
   "cell_type": "code",
   "execution_count": 6,
   "metadata": {
    "ExecuteTime": {
     "end_time": "2018-10-13T16:03:06.504402Z",
     "start_time": "2018-10-13T16:03:06.479468Z"
    }
   },
   "outputs": [
    {
     "name": "stdout",
     "output_type": "stream",
     "text": [
      "===== Unit Test: path_ops/display_dir_tree =====\n",
      "===== path_ops/display_dir_tree =====\n",
      "+ C:/Users/alana/AnacondaProjects/nous/modules/path_helper/\n",
      "    + .ipynb_checkpoints\n",
      "        + __init__-checkpoint.ipynb\n",
      "        + chdir-checkpoint.ipynb\n",
      "        + dir_check-checkpoint.ipynb\n",
      "        + display_dir_tree-checkpoint.ipynb\n",
      "        + getOutputFileName-checkpoint.ipynb\n",
      "    + __init__.ipynb\n",
      "    + __init__.py\n",
      "    + __pycache__\n",
      "        + __init__.cpython-36.pyc\n",
      "        + chdir.cpython-36.pyc\n",
      "        + dir_check.cpython-36.pyc\n",
      "        + display_dir_tree.cpython-36.pyc\n",
      "        + getOutputFileName.cpython-36.pyc\n",
      "    + chdir.ipynb\n",
      "    + chdir.py\n",
      "    + dir_check.ipynb\n",
      "    + dir_check.py\n",
      "    + display_dir_tree.ipynb\n",
      "    + display_dir_tree.py\n",
      "    + getOutputFileName.ipynb\n",
      "    + getOutputFileName.py\n",
      "    + path_ops_bak.ipynb\n",
      "    + path_ops_bak.py\n",
      "===== Unit Test: path_ops/dir_check =====\n",
      "===== path_helper/dir_check =====\n",
      "current_dir = C:\\Users\\alana\\AnacondaProjects\\nous\\modules\n",
      "dir_to_check = efg | exist = False | is_dir = False | is_file = False\n",
      "efg | not exist, dir not created according to config.\n",
      "\n",
      "\n",
      "===== Unit Test: path_ops/getOutputFileName =====\n",
      "===== path_ops/getOutputFileName =====\n",
      "===== path_helper/dir_check =====\n",
      "current_dir = C:\\Users\\alana\\AnacondaProjects\\nous\\modules\n",
      "dir_to_check = C:\\Users\\alana\\AnacondaProjects\\nous\\modules | exist = True | is_dir = True | is_file = False\n",
      "C:\\Users\\alana\\AnacondaProjects\\nous\\modules | exist, no action required.\n",
      "path = C:\\Users\\alana\\AnacondaProjects\\nous\\modules\\output_20181014_000306493431.txt\n",
      "\n",
      "\n",
      "===== Unit Test: path_ops/chdir =====\n",
      "cwd_as_is = C:\\Users\\alana\\AnacondaProjects\\nous\\modules\n",
      "===== path_ops/chdir =====\n",
      "===== path_helper/dir_check =====\n",
      "current_dir = C:\\Users\\alana\\AnacondaProjects\\nous\\modules\n",
      "dir_to_check = C:\\Users\\alana\\AnacondaProjects\\nous | exist = True | is_dir = True | is_file = False\n",
      "C:\\Users\\alana\\AnacondaProjects\\nous | exist, no action required.\n",
      "target_dir = C:\\Users\\alana\\AnacondaProjects\\nous\n",
      "cwd = C:\\Users\\alana\\AnacondaProjects\\nous\n",
      "cwd_to_be = C:\\Users\\alana\\AnacondaProjects\\nous\n"
     ]
    }
   ],
   "source": [
    "# Test function for module  \n",
    "def _test():\n",
    "    _test_display_dir_tree()\n",
    "    _test_dir_check()\n",
    "    _test_getOutputFileName()\n",
    "    _test_chdir()\n",
    "\n",
    "if __name__ == '__main__':\n",
    "    _test()"
   ]
  }
 ],
 "metadata": {
  "kernelspec": {
   "display_name": "Python 3",
   "language": "python",
   "name": "python3"
  },
  "language_info": {
   "codemirror_mode": {
    "name": "ipython",
    "version": 3
   },
   "file_extension": ".py",
   "mimetype": "text/x-python",
   "name": "python",
   "nbconvert_exporter": "python",
   "pygments_lexer": "ipython3",
   "version": "3.6.6"
  },
  "toc": {
   "base_numbering": 1,
   "nav_menu": {},
   "number_sections": true,
   "sideBar": true,
   "skip_h1_title": false,
   "title_cell": "Table of Contents",
   "title_sidebar": "Contents",
   "toc_cell": false,
   "toc_position": {},
   "toc_section_display": true,
   "toc_window_display": true
  },
  "varInspector": {
   "cols": {
    "lenName": 16,
    "lenType": 16,
    "lenVar": 40
   },
   "kernels_config": {
    "python": {
     "delete_cmd_postfix": "",
     "delete_cmd_prefix": "del ",
     "library": "var_list.py",
     "varRefreshCmd": "print(var_dic_list())"
    },
    "r": {
     "delete_cmd_postfix": ") ",
     "delete_cmd_prefix": "rm(",
     "library": "var_list.r",
     "varRefreshCmd": "cat(var_dic_list()) "
    }
   },
   "types_to_exclude": [
    "module",
    "function",
    "builtin_function_or_method",
    "instance",
    "_Feature"
   ],
   "window_display": false
  }
 },
 "nbformat": 4,
 "nbformat_minor": 2
}
