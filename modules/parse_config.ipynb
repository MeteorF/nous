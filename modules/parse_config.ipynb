{
 "cells": [
  {
   "cell_type": "code",
   "execution_count": 1,
   "metadata": {
    "ExecuteTime": {
     "end_time": "2018-10-06T15:53:50.238974Z",
     "start_time": "2018-10-06T15:53:50.231995Z"
    }
   },
   "outputs": [],
   "source": [
    "# ../utilities/parse_config\n",
    "# Last modify: 20181006"
   ]
  },
  {
   "cell_type": "markdown",
   "metadata": {},
   "source": [
    "# Parse Config\n",
    "\n",
    "Ref: https://hackernoon.com/4-ways-to-manage-the-configuration-in-python-4623049e841b"
   ]
  },
  {
   "cell_type": "code",
   "execution_count": 2,
   "metadata": {
    "ExecuteTime": {
     "end_time": "2018-10-06T15:53:50.259919Z",
     "start_time": "2018-10-06T15:53:50.242963Z"
    }
   },
   "outputs": [],
   "source": [
    "import os\n",
    "import json\n",
    "\n",
    "from util_path_ops import dir_check\n",
    "# import importlib\n",
    "# spec = importlib.util.spec_from_file_location(\"main\", \"util_path_ops.py\")\n",
    "# util_path_ops = importlib.util.module_from_spec(spec)\n",
    "# spec.loader.exec_module(util_path_ops)\n",
    "# from util_path_ops import dir_check"
   ]
  },
  {
   "cell_type": "code",
   "execution_count": null,
   "metadata": {
    "ExecuteTime": {
     "end_time": "2018-10-01T17:16:19.803931Z",
     "start_time": "2018-10-01T17:16:19.798948Z"
    }
   },
   "outputs": [],
   "source": []
  },
  {
   "cell_type": "code",
   "execution_count": 3,
   "metadata": {
    "ExecuteTime": {
     "end_time": "2018-10-06T15:53:50.274878Z",
     "start_time": "2018-10-06T15:53:50.261914Z"
    }
   },
   "outputs": [],
   "source": [
    "def get_config_val(config_key, ENV_specific = 'DEFAULT'):\n",
    "    print('===== parse_config/get_config_val =====')\n",
    "    \n",
    "    if DEBUG:\n",
    "        print(f'Attempt to get: config_key = {config_key} | ENV_specific={ENV_specific}')\n",
    "    \n",
    "    if (config_key == None):\n",
    "        raise ValueError(f'config_key is none.')\n",
    "    else:\n",
    "        \n",
    "        value = __settings__[ENV_specific][config_key]\n",
    "        if DEBUG:\n",
    "            print (f'val={value} | type={type(value)} \\n')\n",
    "        \n",
    "        return value"
   ]
  },
  {
   "cell_type": "code",
   "execution_count": 4,
   "metadata": {
    "ExecuteTime": {
     "end_time": "2018-10-06T15:53:50.287842Z",
     "start_time": "2018-10-06T15:53:50.276871Z"
    }
   },
   "outputs": [],
   "source": [
    "def parse_config():\n",
    "    print('===== parse_config/parse_config =====')\n",
    "    \n",
    "    global VERSION, ENV, DEBUG, __settings__\n",
    "    \n",
    "#     config_file = 'settings/config.json'\n",
    "    config_file = 'C:\\\\Users\\\\alana\\\\AnacondaProjects\\\\nous\\\\settings\\\\config.json'\n",
    "    \n",
    "    config_file_path = dir_check(config_file, dir_create=False, return_type='Path')\n",
    "    \n",
    "    with open(config_file_path) as f:\n",
    "        # Read json as dictionary\n",
    "        __settings__ = json.load(f)\n",
    "    \n",
    "    VERSION = __settings__['DEFAULT']['VERSION']\n",
    "    ENV = __settings__['DEFAULT']['ENV']\n",
    "    DEBUG = str_to_bool(__settings__[ENV]['DEBUG'])\n",
    "    INPUT = config_file_path = dir_check(get_config_val('INPUT_DIR'), dir_create=True, return_type='Path')\n",
    "    OUTPUT = config_file_path = dir_check(get_config_val('OUTPUT_DIR'), dir_create=True, return_type='Path')\n",
    "    \n",
    "    print (f\"VERSION = {VERSION} | type = {type(VERSION)}\")\n",
    "    print (f\"ENV = {ENV} | type = {type(ENV)}\")\n",
    "    print (f\"DEBUG = {DEBUG} | type = {type(DEBUG)}\")\n",
    "    print (f\"INPUT = {INPUT} | type = {type(INPUT)}\")\n",
    "    print (f\"OUTPUT = {OUTPUT} | type = {type(OUTPUT)} \\n\")"
   ]
  },
  {
   "cell_type": "code",
   "execution_count": 5,
   "metadata": {
    "ExecuteTime": {
     "end_time": "2018-10-06T15:53:50.304798Z",
     "start_time": "2018-10-06T15:53:50.289837Z"
    }
   },
   "outputs": [],
   "source": [
    "def str_to_bool(s):\n",
    "    print('===== parse_config/str_to_bool =====')\n",
    "    \n",
    "    s = s.upper()\n",
    "    if s in ('TRUE', 'T', '0'):\n",
    "         return True\n",
    "    elif s in ('FALSE', 'F', '1'):\n",
    "         return False\n",
    "    else:\n",
    "         raise ValueError(f'Boolean Value {s} cannot be evaluated.')"
   ]
  },
  {
   "cell_type": "code",
   "execution_count": 6,
   "metadata": {
    "ExecuteTime": {
     "end_time": "2018-10-06T15:53:50.318761Z",
     "start_time": "2018-10-06T15:53:50.306792Z"
    }
   },
   "outputs": [],
   "source": [
    "def main():\n",
    "    print('MAIN')\n",
    "    parse_config()\n",
    "#     print(get_config_val(config_key='SETTINGS_DIR'))"
   ]
  },
  {
   "cell_type": "code",
   "execution_count": 7,
   "metadata": {
    "ExecuteTime": {
     "end_time": "2018-10-06T15:53:50.338706Z",
     "start_time": "2018-10-06T15:53:50.320754Z"
    },
    "scrolled": true
   },
   "outputs": [
    {
     "name": "stdout",
     "output_type": "stream",
     "text": [
      "MAIN\n",
      "===== parse_config/parse_config =====\n",
      "===== util_dir_check/util_path_ops =====\n",
      "current_dir = C:\\Users\\alana\\AnacondaProjects\\nous\\modules\n",
      "proj_dir = C:\\Users\\alana\\AnacondaProjects\\nous\n",
      "dir_to_check = C:\\Users\\alana\\AnacondaProjects\\nous\\settings\\config.json | exist = True | is_dir = False | is_file = True\n",
      "C:\\Users\\alana\\AnacondaProjects\\nous\\settings\\config.json | exist, no action required.\n",
      "===== parse_config/str_to_bool =====\n",
      "===== parse_config/get_config_val =====\n",
      "Attempt to get: config_key = INPUT_DIR | ENV_specific=DEFAULT\n",
      "val=input | type=<class 'str'> \n",
      "\n",
      "===== util_dir_check/util_path_ops =====\n",
      "current_dir = C:\\Users\\alana\\AnacondaProjects\\nous\\modules\n",
      "proj_dir = C:\\Users\\alana\\AnacondaProjects\\nous\n",
      "dir_to_check = C:\\Users\\alana\\AnacondaProjects\\nous\\input | exist = True | is_dir = True | is_file = False\n",
      "C:\\Users\\alana\\AnacondaProjects\\nous\\input | exist, no action required.\n",
      "===== parse_config/get_config_val =====\n",
      "Attempt to get: config_key = OUTPUT_DIR | ENV_specific=DEFAULT\n",
      "val=output | type=<class 'str'> \n",
      "\n",
      "===== util_dir_check/util_path_ops =====\n",
      "current_dir = C:\\Users\\alana\\AnacondaProjects\\nous\\modules\n",
      "proj_dir = C:\\Users\\alana\\AnacondaProjects\\nous\n",
      "dir_to_check = C:\\Users\\alana\\AnacondaProjects\\nous\\output | exist = True | is_dir = True | is_file = False\n",
      "C:\\Users\\alana\\AnacondaProjects\\nous\\output | exist, no action required.\n",
      "VERSION = 0.0.1 | type = <class 'str'>\n",
      "ENV = DEV | type = <class 'str'>\n",
      "DEBUG = True | type = <class 'bool'>\n",
      "INPUT = C:\\Users\\alana\\AnacondaProjects\\nous\\input | type = <class 'str'>\n",
      "OUTPUT = C:\\Users\\alana\\AnacondaProjects\\nous\\output | type = <class 'str'> \n",
      "\n"
     ]
    }
   ],
   "source": [
    "if __name__ == '__main__':\n",
    "    main()\n",
    "else:\n",
    "    parse_config()"
   ]
  }
 ],
 "metadata": {
  "kernelspec": {
   "display_name": "Python 3",
   "language": "python",
   "name": "python3"
  },
  "language_info": {
   "codemirror_mode": {
    "name": "ipython",
    "version": 3
   },
   "file_extension": ".py",
   "mimetype": "text/x-python",
   "name": "python",
   "nbconvert_exporter": "python",
   "pygments_lexer": "ipython3",
   "version": "3.6.6"
  },
  "toc": {
   "base_numbering": 1,
   "nav_menu": {},
   "number_sections": true,
   "sideBar": true,
   "skip_h1_title": false,
   "title_cell": "Table of Contents",
   "title_sidebar": "Contents",
   "toc_cell": false,
   "toc_position": {},
   "toc_section_display": true,
   "toc_window_display": true
  },
  "varInspector": {
   "cols": {
    "lenName": 16,
    "lenType": 16,
    "lenVar": 40
   },
   "kernels_config": {
    "python": {
     "delete_cmd_postfix": "",
     "delete_cmd_prefix": "del ",
     "library": "var_list.py",
     "varRefreshCmd": "print(var_dic_list())"
    },
    "r": {
     "delete_cmd_postfix": ") ",
     "delete_cmd_prefix": "rm(",
     "library": "var_list.r",
     "varRefreshCmd": "cat(var_dic_list()) "
    }
   },
   "types_to_exclude": [
    "module",
    "function",
    "builtin_function_or_method",
    "instance",
    "_Feature"
   ],
   "window_display": false
  }
 },
 "nbformat": 4,
 "nbformat_minor": 2
}
