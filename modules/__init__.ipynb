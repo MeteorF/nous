{
 "cells": [
  {
   "cell_type": "code",
   "execution_count": 5,
   "metadata": {
    "ExecuteTime": {
     "end_time": "2018-10-09T14:54:36.314407Z",
     "start_time": "2018-10-09T14:54:36.302436Z"
    }
   },
   "outputs": [
    {
     "ename": "ModuleNotFoundError",
     "evalue": "No module named '__main__.config'; '__main__' is not a package",
     "output_type": "error",
     "traceback": [
      "\u001b[1;31m---------------------------------------------------------------------------\u001b[0m",
      "\u001b[1;31mModuleNotFoundError\u001b[0m                       Traceback (most recent call last)",
      "\u001b[1;32m<ipython-input-5-1fa0493fd337>\u001b[0m in \u001b[0;36m<module>\u001b[1;34m()\u001b[0m\n\u001b[1;32m----> 1\u001b[1;33m \u001b[1;32mfrom\u001b[0m \u001b[1;33m.\u001b[0m\u001b[0mconfig\u001b[0m \u001b[1;32mimport\u001b[0m \u001b[0mconfig\u001b[0m\u001b[1;33m\u001b[0m\u001b[0m\n\u001b[0m\u001b[0;32m      2\u001b[0m \u001b[1;32mfrom\u001b[0m \u001b[1;33m.\u001b[0m\u001b[0mlogger\u001b[0m \u001b[1;32mimport\u001b[0m \u001b[0mlogger\u001b[0m\u001b[1;33m\u001b[0m\u001b[0m\n\u001b[0;32m      3\u001b[0m \u001b[1;32mfrom\u001b[0m \u001b[1;33m.\u001b[0m\u001b[0mpath_ops\u001b[0m \u001b[1;32mimport\u001b[0m \u001b[0mpath_ops\u001b[0m\u001b[1;33m\u001b[0m\u001b[0m\n",
      "\u001b[1;31mModuleNotFoundError\u001b[0m: No module named '__main__.config'; '__main__' is not a package"
     ]
    }
   ],
   "source": [
    "from .config import config\n",
    "from .logger import logger\n",
    "from .path_ops import path_ops"
   ]
  },
  {
   "cell_type": "code",
   "execution_count": 1,
   "metadata": {
    "ExecuteTime": {
     "end_time": "2018-10-09T14:51:38.513499Z",
     "start_time": "2018-10-09T14:51:38.509504Z"
    }
   },
   "outputs": [],
   "source": [
    "# ../utilities/__init__\n",
    "# Last modify: 20181007"
   ]
  },
  {
   "cell_type": "code",
   "execution_count": 2,
   "metadata": {
    "ExecuteTime": {
     "end_time": "2018-10-09T14:51:38.534437Z",
     "start_time": "2018-10-09T14:51:38.516487Z"
    }
   },
   "outputs": [],
   "source": [
    "# import config\n",
    "# import path_ops\n",
    "# import logger\n",
    "# from os import chdir"
   ]
  },
  {
   "cell_type": "code",
   "execution_count": 3,
   "metadata": {
    "ExecuteTime": {
     "end_time": "2018-10-09T14:51:38.546407Z",
     "start_time": "2018-10-09T14:51:38.536432Z"
    }
   },
   "outputs": [],
   "source": [
    "# def init():\n",
    "#     # Get config\n",
    "#     global __config__\n",
    "#     config.init()\n",
    "#     __config__ = config.__config__\n",
    "    \n",
    "#     # Change Current Working Directory to __config__.PROJ_PATH\n",
    "#     chdir(path_ops.dir_check(dir_check=__config__.PROJ_PATH, dir_create=False, return_type='Path'))\n",
    "    \n",
    "# #     logger.init(logpath = __config__.LOG_PATH)\n",
    "# #     logger.start()"
   ]
  },
  {
   "cell_type": "code",
   "execution_count": 4,
   "metadata": {
    "ExecuteTime": {
     "end_time": "2018-10-09T14:51:38.569346Z",
     "start_time": "2018-10-09T14:51:38.548401Z"
    },
    "scrolled": true
   },
   "outputs": [
    {
     "name": "stdout",
     "output_type": "stream",
     "text": [
      "__name__ = __main__\n",
      "===== config/init =====\n",
      "===== config/parse_config =====\n",
      "===== path_ops/dir_check =====\n",
      "current_dir = C:\\Users\\alana\\AnacondaProjects\\nous\\modules\n",
      "dir_to_check = C:\\Users\\alana\\AnacondaProjects\\nous\\settings\\config.json | exist = True | is_dir = False | is_file = True\n",
      "C:\\Users\\alana\\AnacondaProjects\\nous\\settings\\config.json | exist, no action required.\n",
      "===== config/str_to_bool =====\n",
      "===== config/get_config_val =====\n",
      "Attempt to get: config_key = PROJ_DIR | ENV_specific=DEFAULT\n",
      "val=C:\\Users\\alana\\AnacondaProjects\\nous | type=<class 'str'> \n",
      "\n",
      "===== path_ops/dir_check =====\n",
      "current_dir = C:\\Users\\alana\\AnacondaProjects\\nous\\modules\n",
      "dir_to_check = C:\\Users\\alana\\AnacondaProjects\\nous | exist = True | is_dir = True | is_file = False\n",
      "C:\\Users\\alana\\AnacondaProjects\\nous | exist, no action required.\n",
      "===== config/get_config_val =====\n",
      "Attempt to get: config_key = INPUT_DIR | ENV_specific=DEFAULT\n",
      "val=../input | type=<class 'str'> \n",
      "\n",
      "===== path_ops/dir_check =====\n",
      "current_dir = C:\\Users\\alana\\AnacondaProjects\\nous\\modules\n",
      "dir_to_check = C:\\Users\\alana\\AnacondaProjects\\nous\\input | exist = True | is_dir = True | is_file = False\n",
      "C:\\Users\\alana\\AnacondaProjects\\nous\\input | exist, no action required.\n",
      "===== config/get_config_val =====\n",
      "Attempt to get: config_key = OUTPUT_DIR | ENV_specific=DEFAULT\n",
      "val=../output | type=<class 'str'> \n",
      "\n",
      "===== path_ops/dir_check =====\n",
      "current_dir = C:\\Users\\alana\\AnacondaProjects\\nous\\modules\n",
      "dir_to_check = C:\\Users\\alana\\AnacondaProjects\\nous\\output | exist = True | is_dir = True | is_file = False\n",
      "C:\\Users\\alana\\AnacondaProjects\\nous\\output | exist, no action required.\n",
      "===== config/get_config_val =====\n",
      "Attempt to get: config_key = LOG_DIR | ENV_specific=DEFAULT\n",
      "val=../logs | type=<class 'str'> \n",
      "\n",
      "===== path_ops/dir_check =====\n",
      "current_dir = C:\\Users\\alana\\AnacondaProjects\\nous\\modules\n",
      "dir_to_check = C:\\Users\\alana\\AnacondaProjects\\nous\\logs | exist = True | is_dir = True | is_file = False\n",
      "C:\\Users\\alana\\AnacondaProjects\\nous\\logs | exist, no action required.\n",
      "===== path_ops/dir_check =====\n",
      "current_dir = C:\\Users\\alana\\AnacondaProjects\\nous\\modules\n",
      "dir_to_check = C:\\Users\\alana\\AnacondaProjects\\nous | exist = True | is_dir = True | is_file = False\n",
      "C:\\Users\\alana\\AnacondaProjects\\nous | exist, no action required.\n"
     ]
    }
   ],
   "source": [
    "# if __name__ == '__main__':\n",
    "#     print(f'__name__ = __main__')\n",
    "#     init()\n",
    "# else:\n",
    "#     print(f'__name__ = {__name__}')"
   ]
  }
 ],
 "metadata": {
  "kernelspec": {
   "display_name": "Python 3",
   "language": "python",
   "name": "python3"
  },
  "language_info": {
   "codemirror_mode": {
    "name": "ipython",
    "version": 3
   },
   "file_extension": ".py",
   "mimetype": "text/x-python",
   "name": "python",
   "nbconvert_exporter": "python",
   "pygments_lexer": "ipython3",
   "version": "3.6.6"
  },
  "toc": {
   "base_numbering": 1,
   "nav_menu": {},
   "number_sections": true,
   "sideBar": true,
   "skip_h1_title": false,
   "title_cell": "Table of Contents",
   "title_sidebar": "Contents",
   "toc_cell": false,
   "toc_position": {},
   "toc_section_display": true,
   "toc_window_display": true
  },
  "varInspector": {
   "cols": {
    "lenName": 16,
    "lenType": 16,
    "lenVar": 40
   },
   "kernels_config": {
    "python": {
     "delete_cmd_postfix": "",
     "delete_cmd_prefix": "del ",
     "library": "var_list.py",
     "varRefreshCmd": "print(var_dic_list())"
    },
    "r": {
     "delete_cmd_postfix": ") ",
     "delete_cmd_prefix": "rm(",
     "library": "var_list.r",
     "varRefreshCmd": "cat(var_dic_list()) "
    }
   },
   "types_to_exclude": [
    "module",
    "function",
    "builtin_function_or_method",
    "instance",
    "_Feature"
   ],
   "window_display": false
  }
 },
 "nbformat": 4,
 "nbformat_minor": 2
}
