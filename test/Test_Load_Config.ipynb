{
 "cells": [
  {
   "cell_type": "code",
   "execution_count": 1,
   "metadata": {
    "ExecuteTime": {
     "end_time": "2018-11-05T12:30:41.954354Z",
     "start_time": "2018-11-05T12:30:41.950369Z"
    }
   },
   "outputs": [],
   "source": [
    "# test/Test_Load_Config\n",
    "#\n",
    "# Purpose:\n",
    "# 1. Use path_helper.dir_check to check config.json\n",
    "# 2. Use config_helper.global_config to load config.json\n",
    "# 3. Use path_helper.chdir to change current directory to config specifiec directory\n",
    "# 4. Use config to start logging"
   ]
  },
  {
   "cell_type": "markdown",
   "metadata": {},
   "source": [
    "# Import"
   ]
  },
  {
   "cell_type": "code",
   "execution_count": 2,
   "metadata": {
    "ExecuteTime": {
     "end_time": "2018-11-05T12:30:41.974301Z",
     "start_time": "2018-11-05T12:30:41.957348Z"
    }
   },
   "outputs": [],
   "source": [
    "import sys\n",
    "sys.path.append('../modules')"
   ]
  },
  {
   "cell_type": "code",
   "execution_count": 3,
   "metadata": {
    "ExecuteTime": {
     "end_time": "2018-11-05T12:30:42.002227Z",
     "start_time": "2018-11-05T12:30:41.976294Z"
    }
   },
   "outputs": [
    {
     "name": "stdout",
     "output_type": "stream",
     "text": [
      "__name__ = path_helper.getOutputFileName\n",
      "__name__ = path_helper.chdir\n"
     ]
    }
   ],
   "source": [
    "import json\n",
    "\n",
    "import path_helper\n",
    "import config_helper\n",
    "import logger_helper"
   ]
  },
  {
   "cell_type": "markdown",
   "metadata": {},
   "source": [
    "# Test Parse Config and Change cwd"
   ]
  },
  {
   "cell_type": "code",
   "execution_count": 4,
   "metadata": {
    "ExecuteTime": {
     "end_time": "2018-11-05T12:30:42.009208Z",
     "start_time": "2018-11-05T12:30:42.005217Z"
    }
   },
   "outputs": [],
   "source": [
    "config_file = 'C:/Users/alana/AnacondaProjects/nous/settings/config.json'"
   ]
  },
  {
   "cell_type": "code",
   "execution_count": 5,
   "metadata": {
    "ExecuteTime": {
     "end_time": "2018-11-05T12:30:42.023200Z",
     "start_time": "2018-11-05T12:30:42.010203Z"
    },
    "scrolled": true
   },
   "outputs": [
    {
     "name": "stdout",
     "output_type": "stream",
     "text": [
      "===== path_helper/dir_check =====\n",
      "current_dir = C:\\Users\\alana\\AnacondaProjects\\nous\\test\n",
      "dir_to_check = C:\\Users\\alana\\AnacondaProjects\\nous\\settings\\config.json | exist = True | is_dir = False | is_file = True\n",
      "C:\\Users\\alana\\AnacondaProjects\\nous\\settings\\config.json | exist, no action required.\n",
      "===== path_helper/dir_check =====\n",
      "current_dir = C:\\Users\\alana\\AnacondaProjects\\nous\\test\n",
      "dir_to_check = C:\\Users\\alana\\AnacondaProjects\\nous\\settings\\config.json | exist = True | is_dir = False | is_file = True\n",
      "C:\\Users\\alana\\AnacondaProjects\\nous\\settings\\config.json | exist, no action required.\n"
     ]
    }
   ],
   "source": [
    "if path_helper.dir_check(dir_check=config_file) == True:\n",
    "    config_file_path = path_helper.dir_check(config_file, dir_create=False, return_type='Path')\n",
    "    \n",
    "    with open(config_file_path) as f:\n",
    "        # Read json as dictionary\n",
    "        __config_string__ = json.load(f)\n",
    "        \n",
    "        global __config__\n",
    "        __config__ = config_helper.global_config(__config_string__)"
   ]
  },
  {
   "cell_type": "code",
   "execution_count": 6,
   "metadata": {
    "ExecuteTime": {
     "end_time": "2018-11-05T12:30:42.043115Z",
     "start_time": "2018-11-05T12:30:42.024167Z"
    }
   },
   "outputs": [
    {
     "name": "stdout",
     "output_type": "stream",
     "text": [
      "key = ADMIN_NAME | value = ...\n",
      "key = AWS_DEFAULT_REGION | value = ...\n",
      "key = MAX_IMAGE_SIZE | value = 5242880\n",
      "key = PROJ_DIR | value = C:/Users/alana/AnacondaProjects/nous\n",
      "key = INPUT_DIR | value = input\n",
      "key = OUTPUT_DIR | value = output\n",
      "key = SETTINGS_DIR | value = settings\n",
      "key = LOG_DIR | value = logs\n",
      "key = ENV | value = DEV\n",
      "key = VERSION | value = 0.0.1\n",
      "key = SECRET_KEY | value = \n",
      "key = DEBUG | value = T\n",
      "key = TEST_TMP_DIR | value = tests\n",
      "key = TEST_TIMEOUT | value = 20\n"
     ]
    }
   ],
   "source": [
    "__config__.show_config()"
   ]
  },
  {
   "cell_type": "code",
   "execution_count": 7,
   "metadata": {
    "ExecuteTime": {
     "end_time": "2018-11-05T12:30:42.059103Z",
     "start_time": "2018-11-05T12:30:42.045112Z"
    }
   },
   "outputs": [
    {
     "name": "stdout",
     "output_type": "stream",
     "text": [
      "===== path_ops/chdir =====\n",
      "===== path_helper/dir_check =====\n",
      "current_dir = C:\\Users\\alana\\AnacondaProjects\\nous\\test\n",
      "dir_to_check = C:\\Users\\alana\\AnacondaProjects\\nous | exist = True | is_dir = True | is_file = False\n",
      "C:\\Users\\alana\\AnacondaProjects\\nous | exist, no action required.\n",
      "target_dir = C:\\Users\\alana\\AnacondaProjects\\nous\n",
      "cwd = C:\\Users\\alana\\AnacondaProjects\\nous\n"
     ]
    }
   ],
   "source": [
    "path_helper.chdir(path=__config__.PROJ_DIR)"
   ]
  },
  {
   "cell_type": "code",
   "execution_count": 8,
   "metadata": {
    "ExecuteTime": {
     "end_time": "2018-11-05T12:30:42.077024Z",
     "start_time": "2018-11-05T12:30:42.061066Z"
    },
    "scrolled": true
   },
   "outputs": [
    {
     "name": "stdout",
     "output_type": "stream",
     "text": [
      "===== path_helper/dir_check =====\n",
      "current_dir = C:\\Users\\alana\\AnacondaProjects\\nous\n",
      "dir_to_check = C:\\Users\\alana\\AnacondaProjects\\nous\\input | exist = True | is_dir = True | is_file = False\n",
      "C:\\Users\\alana\\AnacondaProjects\\nous\\input | exist, no action required.\n"
     ]
    },
    {
     "data": {
      "text/plain": [
       "True"
      ]
     },
     "execution_count": 8,
     "metadata": {},
     "output_type": "execute_result"
    }
   ],
   "source": [
    "path_helper.dir_check(__config__.INPUT_DIR)"
   ]
  },
  {
   "cell_type": "markdown",
   "metadata": {},
   "source": [
    "# Test initalize logger"
   ]
  },
  {
   "cell_type": "code",
   "execution_count": 9,
   "metadata": {
    "ExecuteTime": {
     "end_time": "2018-11-05T12:30:42.100960Z",
     "start_time": "2018-11-05T12:30:42.081013Z"
    }
   },
   "outputs": [
    {
     "name": "stdout",
     "output_type": "stream",
     "text": [
      "===== path_ops/getOutputFileName =====\n",
      "===== path_helper/dir_check =====\n",
      "current_dir = C:\\Users\\alana\\AnacondaProjects\\nous\n",
      "dir_to_check = C:\\Users\\alana\\AnacondaProjects\\nous\\logs | exist = True | is_dir = True | is_file = False\n",
      "C:\\Users\\alana\\AnacondaProjects\\nous\\logs | exist, no action required.\n",
      "path = C:\\Users\\alana\\AnacondaProjects\\nous\\logs\\log_20181105_203042086000.log\n",
      "\n",
      "\n"
     ]
    }
   ],
   "source": [
    "global logger\n",
    "logFileName = path_helper.getOutputFileName(path=__config__.LOG_DIR, custom_name='log', extension='.log')\n",
    "config_log = {\n",
    "    \"logFileName\" : logFileName\n",
    "}\n",
    "logger = logger_helper.logger(config_log)\n",
    "logger.log_info(f'Test log info level.')\n",
    "logger.log_error(f'errororororo')\n",
    "logger.shutdown()"
   ]
  },
  {
   "cell_type": "code",
   "execution_count": 10,
   "metadata": {
    "ExecuteTime": {
     "end_time": "2018-11-05T12:30:42.111931Z",
     "start_time": "2018-11-05T12:30:42.103952Z"
    }
   },
   "outputs": [
    {
     "name": "stdout",
     "output_type": "stream",
     "text": [
      "logFileName = C:\\Users\\alana\\AnacondaProjects\\nous\\logs\\log_20181105_203042086000.log\n",
      "2018-11-05 20:30:42,086 | INFO | MainProcess | class_logger | start | 63 | <Logger logger_helper.class_logger (DEBUG)> | -------Start of program-------\n",
      "2018-11-05 20:30:42,087 | INFO | MainProcess | class_logger | log_info | 69 | <Logger logger_helper.class_logger (DEBUG)> | Test log info level.\n",
      "2018-11-05 20:30:42,087 | ERROR | MainProcess | class_logger | log_error | 75 | <Logger logger_helper.class_logger (DEBUG)> | errororororo\n",
      "2018-11-05 20:30:42,087 | INFO | MainProcess | class_logger | shutdown | 81 | <Logger logger_helper.class_logger (DEBUG)> | --------End of program--------\n",
      "\n"
     ]
    }
   ],
   "source": [
    "logger.printLogString()"
   ]
  }
 ],
 "metadata": {
  "kernelspec": {
   "display_name": "Python 3",
   "language": "python",
   "name": "python3"
  },
  "language_info": {
   "codemirror_mode": {
    "name": "ipython",
    "version": 3
   },
   "file_extension": ".py",
   "mimetype": "text/x-python",
   "name": "python",
   "nbconvert_exporter": "python",
   "pygments_lexer": "ipython3",
   "version": "3.6.7"
  },
  "toc": {
   "base_numbering": 1,
   "nav_menu": {},
   "number_sections": true,
   "sideBar": true,
   "skip_h1_title": false,
   "title_cell": "Table of Contents",
   "title_sidebar": "Contents",
   "toc_cell": false,
   "toc_position": {},
   "toc_section_display": true,
   "toc_window_display": true
  },
  "varInspector": {
   "cols": {
    "lenName": 16,
    "lenType": 16,
    "lenVar": 40
   },
   "kernels_config": {
    "python": {
     "delete_cmd_postfix": "",
     "delete_cmd_prefix": "del ",
     "library": "var_list.py",
     "varRefreshCmd": "print(var_dic_list())"
    },
    "r": {
     "delete_cmd_postfix": ") ",
     "delete_cmd_prefix": "rm(",
     "library": "var_list.r",
     "varRefreshCmd": "cat(var_dic_list()) "
    }
   },
   "types_to_exclude": [
    "module",
    "function",
    "builtin_function_or_method",
    "instance",
    "_Feature"
   ],
   "window_display": false
  }
 },
 "nbformat": 4,
 "nbformat_minor": 2
}
